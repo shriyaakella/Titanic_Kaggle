{
 "cells": [
  {
   "cell_type": "code",
   "execution_count": 1,
   "metadata": {
    "_cell_guid": "b1076dfc-b9ad-4769-8c92-a6c4dae69d19",
    "_uuid": "8f2839f25d086af736a60e9eeb907d3b93b6e0e5",
    "execution": {
     "iopub.execute_input": "2021-05-25T09:49:21.743280Z",
     "iopub.status.busy": "2021-05-25T09:49:21.742918Z",
     "iopub.status.idle": "2021-05-25T09:49:21.753345Z",
     "shell.execute_reply": "2021-05-25T09:49:21.752346Z",
     "shell.execute_reply.started": "2021-05-25T09:49:21.743196Z"
    }
   },
   "outputs": [
    {
     "name": "stdout",
     "output_type": "stream",
     "text": [
      "/kaggle/input/titanic/train.csv\n",
      "/kaggle/input/titanic/test.csv\n",
      "/kaggle/input/titanic/gender_submission.csv\n"
     ]
    }
   ],
   "source": [
    "# This Python 3 environment comes with many helpful analytics libraries installed\n",
    "# It is defined by the kaggle/python Docker image: https://github.com/kaggle/docker-python\n",
    "# For example, here's several helpful packages to load\n",
    "\n",
    "import numpy as np # linear algebra\n",
    "import pandas as pd # data processing, CSV file I/O (e.g. pd.read_csv)\n",
    "\n",
    "# Input data files are available in the read-only \"../input/\" directory\n",
    "# For example, running this (by clicking run or pressing Shift+Enter) will list all files under the input directory\n",
    "\n",
    "import os\n",
    "for dirname, _, filenames in os.walk('/kaggle/input'):\n",
    "    for filename in filenames:\n",
    "        print(os.path.join(dirname, filename))\n",
    "\n",
    "# You can write up to 20GB to the current directory (/kaggle/working/) that gets preserved as output when you create a version using \"Save & Run All\" \n",
    "# You can also write temporary files to /kaggle/temp/, but they won't be saved outside of the current session"
   ]
  },
  {
   "cell_type": "markdown",
   "metadata": {},
   "source": [
    "# Importing Libraries and Data"
   ]
  },
  {
   "cell_type": "code",
   "execution_count": 2,
   "metadata": {
    "execution": {
     "iopub.execute_input": "2021-05-25T09:49:21.755059Z",
     "iopub.status.busy": "2021-05-25T09:49:21.754712Z",
     "iopub.status.idle": "2021-05-25T09:49:23.053842Z",
     "shell.execute_reply": "2021-05-25T09:49:23.052948Z",
     "shell.execute_reply.started": "2021-05-25T09:49:21.755029Z"
    }
   },
   "outputs": [],
   "source": [
    "import pandas as pd\n",
    "import numpy as np\n",
    "import xgboost as xgb\n",
    "from scipy import stats\n",
    "from sklearn.metrics import mean_squared_error\n",
    "from sklearn.model_selection import cross_val_score\n",
    "from sklearn.metrics import plot_confusion_matrix\n",
    "from sklearn.ensemble import RandomForestClassifier\n",
    "from sklearn.svm import SVC, LinearSVC\n",
    "from sklearn.tree import DecisionTreeClassifier\n",
    "from sklearn.neighbors import KNeighborsClassifier\n",
    "from sklearn.naive_bayes import GaussianNB\n",
    "from sklearn.model_selection import GridSearchCV\n",
    "from sklearn.preprocessing import RobustScaler\n",
    "import matplotlib.pyplot as plt\n",
    "%matplotlib inline\n",
    "import seaborn as sns\n",
    "from sklearn.model_selection import train_test_split\n",
    "from sklearn.linear_model import LogisticRegression\n",
    "from sklearn.linear_model import Lasso, Ridge\n",
    "from sklearn.metrics import mean_absolute_error\n",
    "from sklearn.metrics import accuracy_score"
   ]
  },
  {
   "cell_type": "code",
   "execution_count": 3,
   "metadata": {
    "execution": {
     "iopub.execute_input": "2021-05-25T09:49:23.055268Z",
     "iopub.status.busy": "2021-05-25T09:49:23.055030Z",
     "iopub.status.idle": "2021-05-25T09:49:23.072717Z",
     "shell.execute_reply": "2021-05-25T09:49:23.071831Z",
     "shell.execute_reply.started": "2021-05-25T09:49:23.055243Z"
    }
   },
   "outputs": [],
   "source": [
    "df=pd.read_csv(\"../input/titanic/train.csv\")"
   ]
  },
  {
   "cell_type": "code",
   "execution_count": 4,
   "metadata": {
    "execution": {
     "iopub.execute_input": "2021-05-25T09:49:23.074142Z",
     "iopub.status.busy": "2021-05-25T09:49:23.073910Z",
     "iopub.status.idle": "2021-05-25T09:49:23.085363Z",
     "shell.execute_reply": "2021-05-25T09:49:23.084542Z",
     "shell.execute_reply.started": "2021-05-25T09:49:23.074119Z"
    }
   },
   "outputs": [],
   "source": [
    "test=pd.read_csv(\"../input/titanic/test.csv\")"
   ]
  },
  {
   "cell_type": "code",
   "execution_count": 5,
   "metadata": {
    "execution": {
     "iopub.execute_input": "2021-05-25T09:49:23.086983Z",
     "iopub.status.busy": "2021-05-25T09:49:23.086728Z",
     "iopub.status.idle": "2021-05-25T09:49:23.116033Z",
     "shell.execute_reply": "2021-05-25T09:49:23.115108Z",
     "shell.execute_reply.started": "2021-05-25T09:49:23.086959Z"
    }
   },
   "outputs": [
    {
     "data": {
      "text/html": [
       "<div>\n",
       "<style scoped>\n",
       "    .dataframe tbody tr th:only-of-type {\n",
       "        vertical-align: middle;\n",
       "    }\n",
       "\n",
       "    .dataframe tbody tr th {\n",
       "        vertical-align: top;\n",
       "    }\n",
       "\n",
       "    .dataframe thead th {\n",
       "        text-align: right;\n",
       "    }\n",
       "</style>\n",
       "<table border=\"1\" class=\"dataframe\">\n",
       "  <thead>\n",
       "    <tr style=\"text-align: right;\">\n",
       "      <th></th>\n",
       "      <th>PassengerId</th>\n",
       "      <th>Survived</th>\n",
       "      <th>Pclass</th>\n",
       "      <th>Name</th>\n",
       "      <th>Sex</th>\n",
       "      <th>Age</th>\n",
       "      <th>SibSp</th>\n",
       "      <th>Parch</th>\n",
       "      <th>Ticket</th>\n",
       "      <th>Fare</th>\n",
       "      <th>Cabin</th>\n",
       "      <th>Embarked</th>\n",
       "    </tr>\n",
       "  </thead>\n",
       "  <tbody>\n",
       "    <tr>\n",
       "      <th>0</th>\n",
       "      <td>1</td>\n",
       "      <td>0</td>\n",
       "      <td>3</td>\n",
       "      <td>Braund, Mr. Owen Harris</td>\n",
       "      <td>male</td>\n",
       "      <td>22.0</td>\n",
       "      <td>1</td>\n",
       "      <td>0</td>\n",
       "      <td>A/5 21171</td>\n",
       "      <td>7.2500</td>\n",
       "      <td>NaN</td>\n",
       "      <td>S</td>\n",
       "    </tr>\n",
       "    <tr>\n",
       "      <th>1</th>\n",
       "      <td>2</td>\n",
       "      <td>1</td>\n",
       "      <td>1</td>\n",
       "      <td>Cumings, Mrs. John Bradley (Florence Briggs Th...</td>\n",
       "      <td>female</td>\n",
       "      <td>38.0</td>\n",
       "      <td>1</td>\n",
       "      <td>0</td>\n",
       "      <td>PC 17599</td>\n",
       "      <td>71.2833</td>\n",
       "      <td>C85</td>\n",
       "      <td>C</td>\n",
       "    </tr>\n",
       "    <tr>\n",
       "      <th>2</th>\n",
       "      <td>3</td>\n",
       "      <td>1</td>\n",
       "      <td>3</td>\n",
       "      <td>Heikkinen, Miss. Laina</td>\n",
       "      <td>female</td>\n",
       "      <td>26.0</td>\n",
       "      <td>0</td>\n",
       "      <td>0</td>\n",
       "      <td>STON/O2. 3101282</td>\n",
       "      <td>7.9250</td>\n",
       "      <td>NaN</td>\n",
       "      <td>S</td>\n",
       "    </tr>\n",
       "    <tr>\n",
       "      <th>3</th>\n",
       "      <td>4</td>\n",
       "      <td>1</td>\n",
       "      <td>1</td>\n",
       "      <td>Futrelle, Mrs. Jacques Heath (Lily May Peel)</td>\n",
       "      <td>female</td>\n",
       "      <td>35.0</td>\n",
       "      <td>1</td>\n",
       "      <td>0</td>\n",
       "      <td>113803</td>\n",
       "      <td>53.1000</td>\n",
       "      <td>C123</td>\n",
       "      <td>S</td>\n",
       "    </tr>\n",
       "    <tr>\n",
       "      <th>4</th>\n",
       "      <td>5</td>\n",
       "      <td>0</td>\n",
       "      <td>3</td>\n",
       "      <td>Allen, Mr. William Henry</td>\n",
       "      <td>male</td>\n",
       "      <td>35.0</td>\n",
       "      <td>0</td>\n",
       "      <td>0</td>\n",
       "      <td>373450</td>\n",
       "      <td>8.0500</td>\n",
       "      <td>NaN</td>\n",
       "      <td>S</td>\n",
       "    </tr>\n",
       "  </tbody>\n",
       "</table>\n",
       "</div>"
      ],
      "text/plain": [
       "   PassengerId  Survived  Pclass  \\\n",
       "0            1         0       3   \n",
       "1            2         1       1   \n",
       "2            3         1       3   \n",
       "3            4         1       1   \n",
       "4            5         0       3   \n",
       "\n",
       "                                                Name     Sex   Age  SibSp  \\\n",
       "0                            Braund, Mr. Owen Harris    male  22.0      1   \n",
       "1  Cumings, Mrs. John Bradley (Florence Briggs Th...  female  38.0      1   \n",
       "2                             Heikkinen, Miss. Laina  female  26.0      0   \n",
       "3       Futrelle, Mrs. Jacques Heath (Lily May Peel)  female  35.0      1   \n",
       "4                           Allen, Mr. William Henry    male  35.0      0   \n",
       "\n",
       "   Parch            Ticket     Fare Cabin Embarked  \n",
       "0      0         A/5 21171   7.2500   NaN        S  \n",
       "1      0          PC 17599  71.2833   C85        C  \n",
       "2      0  STON/O2. 3101282   7.9250   NaN        S  \n",
       "3      0            113803  53.1000  C123        S  \n",
       "4      0            373450   8.0500   NaN        S  "
      ]
     },
     "execution_count": 5,
     "metadata": {},
     "output_type": "execute_result"
    }
   ],
   "source": [
    "df.head()"
   ]
  },
  {
   "cell_type": "markdown",
   "metadata": {},
   "source": [
    "# Data Preprocessing"
   ]
  },
  {
   "cell_type": "markdown",
   "metadata": {},
   "source": [
    "Checking various datatypes, this would help us identify anomalies in the data"
   ]
  },
  {
   "cell_type": "code",
   "execution_count": 6,
   "metadata": {
    "execution": {
     "iopub.execute_input": "2021-05-25T09:49:23.117302Z",
     "iopub.status.busy": "2021-05-25T09:49:23.117058Z",
     "iopub.status.idle": "2021-05-25T09:49:23.123411Z",
     "shell.execute_reply": "2021-05-25T09:49:23.122570Z",
     "shell.execute_reply.started": "2021-05-25T09:49:23.117278Z"
    }
   },
   "outputs": [
    {
     "data": {
      "text/plain": [
       "PassengerId      int64\n",
       "Survived         int64\n",
       "Pclass           int64\n",
       "Name            object\n",
       "Sex             object\n",
       "Age            float64\n",
       "SibSp            int64\n",
       "Parch            int64\n",
       "Ticket          object\n",
       "Fare           float64\n",
       "Cabin           object\n",
       "Embarked        object\n",
       "dtype: object"
      ]
     },
     "execution_count": 6,
     "metadata": {},
     "output_type": "execute_result"
    }
   ],
   "source": [
    "df.dtypes"
   ]
  },
  {
   "cell_type": "markdown",
   "metadata": {},
   "source": [
    "Checking if data with datatype-object is consistent. This will help us weed out nan values in the dataframe."
   ]
  },
  {
   "cell_type": "code",
   "execution_count": 7,
   "metadata": {
    "execution": {
     "iopub.execute_input": "2021-05-25T09:49:23.124800Z",
     "iopub.status.busy": "2021-05-25T09:49:23.124569Z",
     "iopub.status.idle": "2021-05-25T09:49:23.133581Z",
     "shell.execute_reply": "2021-05-25T09:49:23.132990Z",
     "shell.execute_reply.started": "2021-05-25T09:49:23.124778Z"
    }
   },
   "outputs": [
    {
     "data": {
      "text/plain": [
       "array(['S', 'C', 'Q', nan], dtype=object)"
      ]
     },
     "execution_count": 7,
     "metadata": {},
     "output_type": "execute_result"
    }
   ],
   "source": [
    "df['Embarked'].unique()"
   ]
  },
  {
   "cell_type": "code",
   "execution_count": 8,
   "metadata": {
    "execution": {
     "iopub.execute_input": "2021-05-25T09:49:23.135484Z",
     "iopub.status.busy": "2021-05-25T09:49:23.135152Z",
     "iopub.status.idle": "2021-05-25T09:49:23.146354Z",
     "shell.execute_reply": "2021-05-25T09:49:23.145429Z",
     "shell.execute_reply.started": "2021-05-25T09:49:23.135459Z"
    }
   },
   "outputs": [
    {
     "data": {
      "text/plain": [
       "array(['male', 'female'], dtype=object)"
      ]
     },
     "execution_count": 8,
     "metadata": {},
     "output_type": "execute_result"
    }
   ],
   "source": [
    "df['Sex'].unique()"
   ]
  },
  {
   "cell_type": "code",
   "execution_count": 9,
   "metadata": {
    "execution": {
     "iopub.execute_input": "2021-05-25T09:49:23.149430Z",
     "iopub.status.busy": "2021-05-25T09:49:23.149076Z",
     "iopub.status.idle": "2021-05-25T09:49:23.157189Z",
     "shell.execute_reply": "2021-05-25T09:49:23.156246Z",
     "shell.execute_reply.started": "2021-05-25T09:49:23.149399Z"
    }
   },
   "outputs": [
    {
     "data": {
      "text/plain": [
       "array([1, 0, 3, 4, 2, 5, 8])"
      ]
     },
     "execution_count": 9,
     "metadata": {},
     "output_type": "execute_result"
    }
   ],
   "source": [
    "df['SibSp'].unique()"
   ]
  },
  {
   "cell_type": "code",
   "execution_count": 10,
   "metadata": {
    "execution": {
     "iopub.execute_input": "2021-05-25T09:49:23.158788Z",
     "iopub.status.busy": "2021-05-25T09:49:23.158399Z",
     "iopub.status.idle": "2021-05-25T09:49:23.169324Z",
     "shell.execute_reply": "2021-05-25T09:49:23.168062Z",
     "shell.execute_reply.started": "2021-05-25T09:49:23.158759Z"
    }
   },
   "outputs": [
    {
     "data": {
      "text/plain": [
       "array([0, 1, 2, 5, 3, 4, 6])"
      ]
     },
     "execution_count": 10,
     "metadata": {},
     "output_type": "execute_result"
    }
   ],
   "source": [
    "df['Parch'].unique()"
   ]
  },
  {
   "cell_type": "markdown",
   "metadata": {},
   "source": [
    "Dropping all the columns that will not substantially contribute to the result. Name, PassengerID, Ticket and Cabin are purely for the purpose of identification. Hence, they will not help us decipher trends."
   ]
  },
  {
   "cell_type": "code",
   "execution_count": 11,
   "metadata": {
    "execution": {
     "iopub.execute_input": "2021-05-25T09:49:23.171287Z",
     "iopub.status.busy": "2021-05-25T09:49:23.170992Z",
     "iopub.status.idle": "2021-05-25T09:49:23.183795Z",
     "shell.execute_reply": "2021-05-25T09:49:23.182949Z",
     "shell.execute_reply.started": "2021-05-25T09:49:23.171261Z"
    }
   },
   "outputs": [],
   "source": [
    "df.drop('Name', inplace=True, axis=1)"
   ]
  },
  {
   "cell_type": "code",
   "execution_count": 12,
   "metadata": {
    "execution": {
     "iopub.execute_input": "2021-05-25T09:49:23.185712Z",
     "iopub.status.busy": "2021-05-25T09:49:23.185393Z",
     "iopub.status.idle": "2021-05-25T09:49:23.195448Z",
     "shell.execute_reply": "2021-05-25T09:49:23.194458Z",
     "shell.execute_reply.started": "2021-05-25T09:49:23.185633Z"
    }
   },
   "outputs": [],
   "source": [
    "df.drop('PassengerId', inplace=True, axis=1)"
   ]
  },
  {
   "cell_type": "code",
   "execution_count": 13,
   "metadata": {
    "execution": {
     "iopub.execute_input": "2021-05-25T09:49:23.197036Z",
     "iopub.status.busy": "2021-05-25T09:49:23.196753Z",
     "iopub.status.idle": "2021-05-25T09:49:23.206806Z",
     "shell.execute_reply": "2021-05-25T09:49:23.205741Z",
     "shell.execute_reply.started": "2021-05-25T09:49:23.197012Z"
    }
   },
   "outputs": [],
   "source": [
    "\n",
    "df.drop('Ticket', inplace=True, axis=1)\n",
    "df.drop('Cabin', inplace=True, axis=1)"
   ]
  },
  {
   "cell_type": "code",
   "execution_count": 14,
   "metadata": {
    "execution": {
     "iopub.execute_input": "2021-05-25T09:49:23.208405Z",
     "iopub.status.busy": "2021-05-25T09:49:23.208116Z",
     "iopub.status.idle": "2021-05-25T09:49:23.219377Z",
     "shell.execute_reply": "2021-05-25T09:49:23.218424Z",
     "shell.execute_reply.started": "2021-05-25T09:49:23.208374Z"
    }
   },
   "outputs": [],
   "source": [
    "test.drop('Name', inplace=True, axis=1)\n",
    "test.drop('PassengerId', inplace=True, axis=1)\n",
    "test.drop('Ticket', inplace=True, axis=1)\n",
    "test.drop('Cabin', inplace=True, axis=1)"
   ]
  },
  {
   "cell_type": "code",
   "execution_count": 15,
   "metadata": {
    "execution": {
     "iopub.execute_input": "2021-05-25T09:49:23.221044Z",
     "iopub.status.busy": "2021-05-25T09:49:23.220631Z",
     "iopub.status.idle": "2021-05-25T09:49:23.229136Z",
     "shell.execute_reply": "2021-05-25T09:49:23.228123Z",
     "shell.execute_reply.started": "2021-05-25T09:49:23.221014Z"
    }
   },
   "outputs": [],
   "source": [
    "df['Sex'] = df['Sex'].map({'female': 1, 'male': 0})\n",
    "test['Sex'] = test['Sex'].map({'female': 1, 'male': 0})"
   ]
  },
  {
   "cell_type": "code",
   "execution_count": 16,
   "metadata": {
    "execution": {
     "iopub.execute_input": "2021-05-25T09:49:23.230816Z",
     "iopub.status.busy": "2021-05-25T09:49:23.230546Z",
     "iopub.status.idle": "2021-05-25T09:49:23.245155Z",
     "shell.execute_reply": "2021-05-25T09:49:23.244154Z",
     "shell.execute_reply.started": "2021-05-25T09:49:23.230790Z"
    }
   },
   "outputs": [
    {
     "data": {
      "text/html": [
       "<div>\n",
       "<style scoped>\n",
       "    .dataframe tbody tr th:only-of-type {\n",
       "        vertical-align: middle;\n",
       "    }\n",
       "\n",
       "    .dataframe tbody tr th {\n",
       "        vertical-align: top;\n",
       "    }\n",
       "\n",
       "    .dataframe thead th {\n",
       "        text-align: right;\n",
       "    }\n",
       "</style>\n",
       "<table border=\"1\" class=\"dataframe\">\n",
       "  <thead>\n",
       "    <tr style=\"text-align: right;\">\n",
       "      <th></th>\n",
       "      <th>Survived</th>\n",
       "      <th>Pclass</th>\n",
       "      <th>Sex</th>\n",
       "      <th>Age</th>\n",
       "      <th>SibSp</th>\n",
       "      <th>Parch</th>\n",
       "      <th>Fare</th>\n",
       "      <th>Embarked</th>\n",
       "    </tr>\n",
       "  </thead>\n",
       "  <tbody>\n",
       "    <tr>\n",
       "      <th>0</th>\n",
       "      <td>0</td>\n",
       "      <td>3</td>\n",
       "      <td>0</td>\n",
       "      <td>22.0</td>\n",
       "      <td>1</td>\n",
       "      <td>0</td>\n",
       "      <td>7.2500</td>\n",
       "      <td>S</td>\n",
       "    </tr>\n",
       "    <tr>\n",
       "      <th>1</th>\n",
       "      <td>1</td>\n",
       "      <td>1</td>\n",
       "      <td>1</td>\n",
       "      <td>38.0</td>\n",
       "      <td>1</td>\n",
       "      <td>0</td>\n",
       "      <td>71.2833</td>\n",
       "      <td>C</td>\n",
       "    </tr>\n",
       "    <tr>\n",
       "      <th>2</th>\n",
       "      <td>1</td>\n",
       "      <td>3</td>\n",
       "      <td>1</td>\n",
       "      <td>26.0</td>\n",
       "      <td>0</td>\n",
       "      <td>0</td>\n",
       "      <td>7.9250</td>\n",
       "      <td>S</td>\n",
       "    </tr>\n",
       "    <tr>\n",
       "      <th>3</th>\n",
       "      <td>1</td>\n",
       "      <td>1</td>\n",
       "      <td>1</td>\n",
       "      <td>35.0</td>\n",
       "      <td>1</td>\n",
       "      <td>0</td>\n",
       "      <td>53.1000</td>\n",
       "      <td>S</td>\n",
       "    </tr>\n",
       "    <tr>\n",
       "      <th>4</th>\n",
       "      <td>0</td>\n",
       "      <td>3</td>\n",
       "      <td>0</td>\n",
       "      <td>35.0</td>\n",
       "      <td>0</td>\n",
       "      <td>0</td>\n",
       "      <td>8.0500</td>\n",
       "      <td>S</td>\n",
       "    </tr>\n",
       "  </tbody>\n",
       "</table>\n",
       "</div>"
      ],
      "text/plain": [
       "   Survived  Pclass  Sex   Age  SibSp  Parch     Fare Embarked\n",
       "0         0       3    0  22.0      1      0   7.2500        S\n",
       "1         1       1    1  38.0      1      0  71.2833        C\n",
       "2         1       3    1  26.0      0      0   7.9250        S\n",
       "3         1       1    1  35.0      1      0  53.1000        S\n",
       "4         0       3    0  35.0      0      0   8.0500        S"
      ]
     },
     "execution_count": 16,
     "metadata": {},
     "output_type": "execute_result"
    }
   ],
   "source": [
    "df.head()"
   ]
  },
  {
   "cell_type": "code",
   "execution_count": 17,
   "metadata": {
    "execution": {
     "iopub.execute_input": "2021-05-25T09:49:23.247096Z",
     "iopub.status.busy": "2021-05-25T09:49:23.246690Z",
     "iopub.status.idle": "2021-05-25T09:49:23.257093Z",
     "shell.execute_reply": "2021-05-25T09:49:23.256057Z",
     "shell.execute_reply.started": "2021-05-25T09:49:23.247055Z"
    }
   },
   "outputs": [
    {
     "data": {
      "text/plain": [
       "2"
      ]
     },
     "execution_count": 17,
     "metadata": {},
     "output_type": "execute_result"
    }
   ],
   "source": [
    "df['Embarked'].isnull().values.sum()"
   ]
  },
  {
   "cell_type": "code",
   "execution_count": 44,
   "metadata": {
    "execution": {
     "iopub.execute_input": "2021-05-25T09:50:46.440338Z",
     "iopub.status.busy": "2021-05-25T09:50:46.439996Z",
     "iopub.status.idle": "2021-05-25T09:50:46.447099Z",
     "shell.execute_reply": "2021-05-25T09:50:46.446245Z",
     "shell.execute_reply.started": "2021-05-25T09:50:46.440305Z"
    }
   },
   "outputs": [],
   "source": [
    "df_no_miss=df[(df['Embarked'].notna())]\n",
    "test=test[(test['Embarked'].notna())]"
   ]
  },
  {
   "cell_type": "code",
   "execution_count": 19,
   "metadata": {
    "execution": {
     "iopub.execute_input": "2021-05-25T09:49:23.271482Z",
     "iopub.status.busy": "2021-05-25T09:49:23.271103Z",
     "iopub.status.idle": "2021-05-25T09:49:23.280683Z",
     "shell.execute_reply": "2021-05-25T09:49:23.279615Z",
     "shell.execute_reply.started": "2021-05-25T09:49:23.271444Z"
    }
   },
   "outputs": [
    {
     "data": {
      "text/plain": [
       "889"
      ]
     },
     "execution_count": 19,
     "metadata": {},
     "output_type": "execute_result"
    }
   ],
   "source": [
    "len(df_no_miss)"
   ]
  },
  {
   "cell_type": "markdown",
   "metadata": {},
   "source": [
    "Splitting the data before we use it for training"
   ]
  },
  {
   "cell_type": "code",
   "execution_count": 20,
   "metadata": {
    "execution": {
     "iopub.execute_input": "2021-05-25T09:49:23.282397Z",
     "iopub.status.busy": "2021-05-25T09:49:23.281983Z",
     "iopub.status.idle": "2021-05-25T09:49:23.299401Z",
     "shell.execute_reply": "2021-05-25T09:49:23.298475Z",
     "shell.execute_reply.started": "2021-05-25T09:49:23.282355Z"
    }
   },
   "outputs": [
    {
     "data": {
      "text/html": [
       "<div>\n",
       "<style scoped>\n",
       "    .dataframe tbody tr th:only-of-type {\n",
       "        vertical-align: middle;\n",
       "    }\n",
       "\n",
       "    .dataframe tbody tr th {\n",
       "        vertical-align: top;\n",
       "    }\n",
       "\n",
       "    .dataframe thead th {\n",
       "        text-align: right;\n",
       "    }\n",
       "</style>\n",
       "<table border=\"1\" class=\"dataframe\">\n",
       "  <thead>\n",
       "    <tr style=\"text-align: right;\">\n",
       "      <th></th>\n",
       "      <th>Pclass</th>\n",
       "      <th>Sex</th>\n",
       "      <th>Age</th>\n",
       "      <th>SibSp</th>\n",
       "      <th>Parch</th>\n",
       "      <th>Fare</th>\n",
       "      <th>Embarked</th>\n",
       "    </tr>\n",
       "  </thead>\n",
       "  <tbody>\n",
       "    <tr>\n",
       "      <th>0</th>\n",
       "      <td>3</td>\n",
       "      <td>0</td>\n",
       "      <td>22.0</td>\n",
       "      <td>1</td>\n",
       "      <td>0</td>\n",
       "      <td>7.2500</td>\n",
       "      <td>S</td>\n",
       "    </tr>\n",
       "    <tr>\n",
       "      <th>1</th>\n",
       "      <td>1</td>\n",
       "      <td>1</td>\n",
       "      <td>38.0</td>\n",
       "      <td>1</td>\n",
       "      <td>0</td>\n",
       "      <td>71.2833</td>\n",
       "      <td>C</td>\n",
       "    </tr>\n",
       "    <tr>\n",
       "      <th>2</th>\n",
       "      <td>3</td>\n",
       "      <td>1</td>\n",
       "      <td>26.0</td>\n",
       "      <td>0</td>\n",
       "      <td>0</td>\n",
       "      <td>7.9250</td>\n",
       "      <td>S</td>\n",
       "    </tr>\n",
       "    <tr>\n",
       "      <th>3</th>\n",
       "      <td>1</td>\n",
       "      <td>1</td>\n",
       "      <td>35.0</td>\n",
       "      <td>1</td>\n",
       "      <td>0</td>\n",
       "      <td>53.1000</td>\n",
       "      <td>S</td>\n",
       "    </tr>\n",
       "    <tr>\n",
       "      <th>4</th>\n",
       "      <td>3</td>\n",
       "      <td>0</td>\n",
       "      <td>35.0</td>\n",
       "      <td>0</td>\n",
       "      <td>0</td>\n",
       "      <td>8.0500</td>\n",
       "      <td>S</td>\n",
       "    </tr>\n",
       "  </tbody>\n",
       "</table>\n",
       "</div>"
      ],
      "text/plain": [
       "   Pclass  Sex   Age  SibSp  Parch     Fare Embarked\n",
       "0       3    0  22.0      1      0   7.2500        S\n",
       "1       1    1  38.0      1      0  71.2833        C\n",
       "2       3    1  26.0      0      0   7.9250        S\n",
       "3       1    1  35.0      1      0  53.1000        S\n",
       "4       3    0  35.0      0      0   8.0500        S"
      ]
     },
     "execution_count": 20,
     "metadata": {},
     "output_type": "execute_result"
    }
   ],
   "source": [
    "x=df_no_miss.drop('Survived', axis=1)\n",
    "x.head()"
   ]
  },
  {
   "cell_type": "code",
   "execution_count": 21,
   "metadata": {
    "execution": {
     "iopub.execute_input": "2021-05-25T09:49:23.301335Z",
     "iopub.status.busy": "2021-05-25T09:49:23.300714Z",
     "iopub.status.idle": "2021-05-25T09:49:23.313084Z",
     "shell.execute_reply": "2021-05-25T09:49:23.312191Z",
     "shell.execute_reply.started": "2021-05-25T09:49:23.301279Z"
    }
   },
   "outputs": [
    {
     "data": {
      "text/plain": [
       "0    0\n",
       "1    1\n",
       "2    1\n",
       "3    1\n",
       "4    0\n",
       "Name: Survived, dtype: int64"
      ]
     },
     "execution_count": 21,
     "metadata": {},
     "output_type": "execute_result"
    }
   ],
   "source": [
    "y=df_no_miss['Survived'].copy()\n",
    "y.head()"
   ]
  },
  {
   "cell_type": "markdown",
   "metadata": {},
   "source": [
    "# One Hot Encoding"
   ]
  },
  {
   "cell_type": "code",
   "execution_count": 45,
   "metadata": {
    "execution": {
     "iopub.execute_input": "2021-05-25T09:51:10.366545Z",
     "iopub.status.busy": "2021-05-25T09:51:10.366117Z",
     "iopub.status.idle": "2021-05-25T09:51:10.381298Z",
     "shell.execute_reply": "2021-05-25T09:51:10.379880Z",
     "shell.execute_reply.started": "2021-05-25T09:51:10.366494Z"
    }
   },
   "outputs": [],
   "source": [
    "x_enc= pd.get_dummies(x,columns=['Sex','Embarked'])\n",
    "test=pd.get_dummies(test,columns=['Sex','Embarked'])"
   ]
  },
  {
   "cell_type": "code",
   "execution_count": 23,
   "metadata": {
    "execution": {
     "iopub.execute_input": "2021-05-25T09:49:23.338735Z",
     "iopub.status.busy": "2021-05-25T09:49:23.338195Z",
     "iopub.status.idle": "2021-05-25T09:49:23.351645Z",
     "shell.execute_reply": "2021-05-25T09:49:23.350605Z",
     "shell.execute_reply.started": "2021-05-25T09:49:23.338690Z"
    }
   },
   "outputs": [
    {
     "data": {
      "text/html": [
       "<div>\n",
       "<style scoped>\n",
       "    .dataframe tbody tr th:only-of-type {\n",
       "        vertical-align: middle;\n",
       "    }\n",
       "\n",
       "    .dataframe tbody tr th {\n",
       "        vertical-align: top;\n",
       "    }\n",
       "\n",
       "    .dataframe thead th {\n",
       "        text-align: right;\n",
       "    }\n",
       "</style>\n",
       "<table border=\"1\" class=\"dataframe\">\n",
       "  <thead>\n",
       "    <tr style=\"text-align: right;\">\n",
       "      <th></th>\n",
       "      <th>Pclass</th>\n",
       "      <th>Age</th>\n",
       "      <th>SibSp</th>\n",
       "      <th>Parch</th>\n",
       "      <th>Fare</th>\n",
       "      <th>Sex_0</th>\n",
       "      <th>Sex_1</th>\n",
       "      <th>Embarked_C</th>\n",
       "      <th>Embarked_Q</th>\n",
       "      <th>Embarked_S</th>\n",
       "    </tr>\n",
       "  </thead>\n",
       "  <tbody>\n",
       "    <tr>\n",
       "      <th>0</th>\n",
       "      <td>3</td>\n",
       "      <td>22.0</td>\n",
       "      <td>1</td>\n",
       "      <td>0</td>\n",
       "      <td>7.2500</td>\n",
       "      <td>1</td>\n",
       "      <td>0</td>\n",
       "      <td>0</td>\n",
       "      <td>0</td>\n",
       "      <td>1</td>\n",
       "    </tr>\n",
       "    <tr>\n",
       "      <th>1</th>\n",
       "      <td>1</td>\n",
       "      <td>38.0</td>\n",
       "      <td>1</td>\n",
       "      <td>0</td>\n",
       "      <td>71.2833</td>\n",
       "      <td>0</td>\n",
       "      <td>1</td>\n",
       "      <td>1</td>\n",
       "      <td>0</td>\n",
       "      <td>0</td>\n",
       "    </tr>\n",
       "    <tr>\n",
       "      <th>2</th>\n",
       "      <td>3</td>\n",
       "      <td>26.0</td>\n",
       "      <td>0</td>\n",
       "      <td>0</td>\n",
       "      <td>7.9250</td>\n",
       "      <td>0</td>\n",
       "      <td>1</td>\n",
       "      <td>0</td>\n",
       "      <td>0</td>\n",
       "      <td>1</td>\n",
       "    </tr>\n",
       "    <tr>\n",
       "      <th>3</th>\n",
       "      <td>1</td>\n",
       "      <td>35.0</td>\n",
       "      <td>1</td>\n",
       "      <td>0</td>\n",
       "      <td>53.1000</td>\n",
       "      <td>0</td>\n",
       "      <td>1</td>\n",
       "      <td>0</td>\n",
       "      <td>0</td>\n",
       "      <td>1</td>\n",
       "    </tr>\n",
       "    <tr>\n",
       "      <th>4</th>\n",
       "      <td>3</td>\n",
       "      <td>35.0</td>\n",
       "      <td>0</td>\n",
       "      <td>0</td>\n",
       "      <td>8.0500</td>\n",
       "      <td>1</td>\n",
       "      <td>0</td>\n",
       "      <td>0</td>\n",
       "      <td>0</td>\n",
       "      <td>1</td>\n",
       "    </tr>\n",
       "  </tbody>\n",
       "</table>\n",
       "</div>"
      ],
      "text/plain": [
       "   Pclass   Age  SibSp  Parch     Fare  Sex_0  Sex_1  Embarked_C  Embarked_Q  \\\n",
       "0       3  22.0      1      0   7.2500      1      0           0           0   \n",
       "1       1  38.0      1      0  71.2833      0      1           1           0   \n",
       "2       3  26.0      0      0   7.9250      0      1           0           0   \n",
       "3       1  35.0      1      0  53.1000      0      1           0           0   \n",
       "4       3  35.0      0      0   8.0500      1      0           0           0   \n",
       "\n",
       "   Embarked_S  \n",
       "0           1  \n",
       "1           0  \n",
       "2           1  \n",
       "3           1  \n",
       "4           1  "
      ]
     },
     "execution_count": 23,
     "metadata": {},
     "output_type": "execute_result"
    }
   ],
   "source": [
    "x_enc.head()"
   ]
  },
  {
   "cell_type": "code",
   "execution_count": 24,
   "metadata": {
    "execution": {
     "iopub.execute_input": "2021-05-25T09:49:23.354000Z",
     "iopub.status.busy": "2021-05-25T09:49:23.353352Z",
     "iopub.status.idle": "2021-05-25T09:49:23.365134Z",
     "shell.execute_reply": "2021-05-25T09:49:23.364364Z",
     "shell.execute_reply.started": "2021-05-25T09:49:23.353959Z"
    }
   },
   "outputs": [
    {
     "data": {
      "text/plain": [
       "177"
      ]
     },
     "execution_count": 24,
     "metadata": {},
     "output_type": "execute_result"
    }
   ],
   "source": [
    "df['Age'].isnull().values.sum()"
   ]
  },
  {
   "cell_type": "code",
   "execution_count": 25,
   "metadata": {
    "execution": {
     "iopub.execute_input": "2021-05-25T09:49:23.367015Z",
     "iopub.status.busy": "2021-05-25T09:49:23.366437Z",
     "iopub.status.idle": "2021-05-25T09:49:23.376656Z",
     "shell.execute_reply": "2021-05-25T09:49:23.375982Z",
     "shell.execute_reply.started": "2021-05-25T09:49:23.366971Z"
    }
   },
   "outputs": [
    {
     "data": {
      "text/plain": [
       "array([22.  , 38.  , 26.  , 35.  ,   nan, 54.  ,  2.  , 27.  , 14.  ,\n",
       "        4.  , 58.  , 20.  , 39.  , 55.  , 31.  , 34.  , 15.  , 28.  ,\n",
       "        8.  , 19.  , 40.  , 66.  , 42.  , 21.  , 18.  ,  3.  ,  7.  ,\n",
       "       49.  , 29.  , 65.  , 28.5 ,  5.  , 11.  , 45.  , 17.  , 32.  ,\n",
       "       16.  , 25.  ,  0.83, 30.  , 33.  , 23.  , 24.  , 46.  , 59.  ,\n",
       "       71.  , 37.  , 47.  , 14.5 , 70.5 , 32.5 , 12.  ,  9.  , 36.5 ,\n",
       "       51.  , 55.5 , 40.5 , 44.  ,  1.  , 61.  , 56.  , 50.  , 36.  ,\n",
       "       45.5 , 20.5 , 62.  , 41.  , 52.  , 63.  , 23.5 ,  0.92, 43.  ,\n",
       "       60.  , 10.  , 64.  , 13.  , 48.  ,  0.75, 53.  , 57.  , 80.  ,\n",
       "       70.  , 24.5 ,  6.  ,  0.67, 30.5 ,  0.42, 34.5 , 74.  ])"
      ]
     },
     "execution_count": 25,
     "metadata": {},
     "output_type": "execute_result"
    }
   ],
   "source": [
    "df['Age'].unique()"
   ]
  },
  {
   "cell_type": "code",
   "execution_count": 47,
   "metadata": {
    "execution": {
     "iopub.execute_input": "2021-05-25T09:51:43.608032Z",
     "iopub.status.busy": "2021-05-25T09:51:43.607699Z",
     "iopub.status.idle": "2021-05-25T09:51:43.613691Z",
     "shell.execute_reply": "2021-05-25T09:51:43.612952Z",
     "shell.execute_reply.started": "2021-05-25T09:51:43.608004Z"
    }
   },
   "outputs": [],
   "source": [
    "x_enc['Age']=x_enc['Age'].fillna(0)\n",
    "test['Age']=test['Age'].fillna(0)"
   ]
  },
  {
   "cell_type": "code",
   "execution_count": 27,
   "metadata": {
    "execution": {
     "iopub.execute_input": "2021-05-25T09:49:23.390172Z",
     "iopub.status.busy": "2021-05-25T09:49:23.389597Z",
     "iopub.status.idle": "2021-05-25T09:49:23.401667Z",
     "shell.execute_reply": "2021-05-25T09:49:23.400941Z",
     "shell.execute_reply.started": "2021-05-25T09:49:23.390142Z"
    }
   },
   "outputs": [
    {
     "data": {
      "text/plain": [
       "array([22.  , 38.  , 26.  , 35.  ,  0.  , 54.  ,  2.  , 27.  , 14.  ,\n",
       "        4.  , 58.  , 20.  , 39.  , 55.  , 31.  , 34.  , 15.  , 28.  ,\n",
       "        8.  , 19.  , 40.  , 66.  , 42.  , 21.  , 18.  ,  3.  ,  7.  ,\n",
       "       49.  , 29.  , 65.  , 28.5 ,  5.  , 11.  , 45.  , 17.  , 32.  ,\n",
       "       16.  , 25.  ,  0.83, 30.  , 33.  , 23.  , 24.  , 46.  , 59.  ,\n",
       "       71.  , 37.  , 47.  , 14.5 , 70.5 , 32.5 , 12.  ,  9.  , 36.5 ,\n",
       "       51.  , 55.5 , 40.5 , 44.  ,  1.  , 61.  , 56.  , 50.  , 36.  ,\n",
       "       45.5 , 20.5 , 62.  , 41.  , 52.  , 63.  , 23.5 ,  0.92, 43.  ,\n",
       "       60.  , 10.  , 64.  , 13.  , 48.  ,  0.75, 53.  , 57.  , 80.  ,\n",
       "       70.  , 24.5 ,  6.  ,  0.67, 30.5 ,  0.42, 34.5 , 74.  ])"
      ]
     },
     "execution_count": 27,
     "metadata": {},
     "output_type": "execute_result"
    }
   ],
   "source": [
    "x_enc['Age'].unique()\n"
   ]
  },
  {
   "cell_type": "code",
   "execution_count": 39,
   "metadata": {
    "execution": {
     "iopub.execute_input": "2021-05-25T09:49:24.900058Z",
     "iopub.status.busy": "2021-05-25T09:49:24.899669Z",
     "iopub.status.idle": "2021-05-25T09:49:24.910623Z",
     "shell.execute_reply": "2021-05-25T09:49:24.909733Z",
     "shell.execute_reply.started": "2021-05-25T09:49:24.900015Z"
    }
   },
   "outputs": [
    {
     "data": {
      "text/plain": [
       "Pclass        0\n",
       "Age           0\n",
       "SibSp         0\n",
       "Parch         0\n",
       "Fare          0\n",
       "Sex_0         0\n",
       "Sex_1         0\n",
       "Embarked_C    0\n",
       "Embarked_Q    0\n",
       "Embarked_S    0\n",
       "dtype: int64"
      ]
     },
     "execution_count": 39,
     "metadata": {},
     "output_type": "execute_result"
    }
   ],
   "source": [
    "x_enc.isna().sum()"
   ]
  },
  {
   "cell_type": "code",
   "execution_count": 49,
   "metadata": {
    "execution": {
     "iopub.execute_input": "2021-05-25T09:52:50.082994Z",
     "iopub.status.busy": "2021-05-25T09:52:50.082665Z",
     "iopub.status.idle": "2021-05-25T09:52:50.091551Z",
     "shell.execute_reply": "2021-05-25T09:52:50.090425Z",
     "shell.execute_reply.started": "2021-05-25T09:52:50.082967Z"
    }
   },
   "outputs": [
    {
     "data": {
      "text/plain": [
       "Pclass        0\n",
       "Age           0\n",
       "SibSp         0\n",
       "Parch         0\n",
       "Fare          1\n",
       "Sex_0         0\n",
       "Sex_1         0\n",
       "Embarked_C    0\n",
       "Embarked_Q    0\n",
       "Embarked_S    0\n",
       "dtype: int64"
      ]
     },
     "execution_count": 49,
     "metadata": {},
     "output_type": "execute_result"
    }
   ],
   "source": [
    "test.isna().sum()"
   ]
  },
  {
   "cell_type": "code",
   "execution_count": 50,
   "metadata": {
    "execution": {
     "iopub.execute_input": "2021-05-25T09:53:20.838312Z",
     "iopub.status.busy": "2021-05-25T09:53:20.837967Z",
     "iopub.status.idle": "2021-05-25T09:53:20.842982Z",
     "shell.execute_reply": "2021-05-25T09:53:20.842016Z",
     "shell.execute_reply.started": "2021-05-25T09:53:20.838284Z"
    }
   },
   "outputs": [],
   "source": [
    "test['Fare']=test['Fare'].fillna(0)"
   ]
  },
  {
   "cell_type": "markdown",
   "metadata": {},
   "source": [
    "# Train-test Split"
   ]
  },
  {
   "cell_type": "code",
   "execution_count": 28,
   "metadata": {
    "execution": {
     "iopub.execute_input": "2021-05-25T09:49:23.403599Z",
     "iopub.status.busy": "2021-05-25T09:49:23.403086Z",
     "iopub.status.idle": "2021-05-25T09:49:23.411485Z",
     "shell.execute_reply": "2021-05-25T09:49:23.410663Z",
     "shell.execute_reply.started": "2021-05-25T09:49:23.403542Z"
    }
   },
   "outputs": [
    {
     "data": {
      "text/plain": [
       "array([0, 1])"
      ]
     },
     "execution_count": 28,
     "metadata": {},
     "output_type": "execute_result"
    }
   ],
   "source": [
    "y.unique()"
   ]
  },
  {
   "cell_type": "code",
   "execution_count": 29,
   "metadata": {
    "execution": {
     "iopub.execute_input": "2021-05-25T09:49:23.413093Z",
     "iopub.status.busy": "2021-05-25T09:49:23.412650Z",
     "iopub.status.idle": "2021-05-25T09:49:23.422676Z",
     "shell.execute_reply": "2021-05-25T09:49:23.421850Z",
     "shell.execute_reply.started": "2021-05-25T09:49:23.413045Z"
    }
   },
   "outputs": [
    {
     "data": {
      "text/plain": [
       "0.38245219347581555"
      ]
     },
     "execution_count": 29,
     "metadata": {},
     "output_type": "execute_result"
    }
   ],
   "source": [
    "sum(y)/len(y)"
   ]
  },
  {
   "cell_type": "markdown",
   "metadata": {},
   "source": [
    "We use the stratify function in order to avoid imbalances in the testing and training data. As can be observed, it splits the data in the same proportion."
   ]
  },
  {
   "cell_type": "code",
   "execution_count": 30,
   "metadata": {
    "execution": {
     "iopub.execute_input": "2021-05-25T09:49:23.424132Z",
     "iopub.status.busy": "2021-05-25T09:49:23.423855Z",
     "iopub.status.idle": "2021-05-25T09:49:23.439671Z",
     "shell.execute_reply": "2021-05-25T09:49:23.438788Z",
     "shell.execute_reply.started": "2021-05-25T09:49:23.424098Z"
    }
   },
   "outputs": [],
   "source": [
    "x_train, x_test, y_train, y_test= train_test_split(x_enc, y,stratify=y)"
   ]
  },
  {
   "cell_type": "code",
   "execution_count": 31,
   "metadata": {
    "execution": {
     "iopub.execute_input": "2021-05-25T09:49:23.441627Z",
     "iopub.status.busy": "2021-05-25T09:49:23.441032Z",
     "iopub.status.idle": "2021-05-25T09:49:23.449099Z",
     "shell.execute_reply": "2021-05-25T09:49:23.448248Z",
     "shell.execute_reply.started": "2021-05-25T09:49:23.441580Z"
    }
   },
   "outputs": [
    {
     "data": {
      "text/plain": [
       "0.38288288288288286"
      ]
     },
     "execution_count": 31,
     "metadata": {},
     "output_type": "execute_result"
    }
   ],
   "source": [
    "sum(y_train)/len(y_train)"
   ]
  },
  {
   "cell_type": "code",
   "execution_count": 32,
   "metadata": {
    "execution": {
     "iopub.execute_input": "2021-05-25T09:49:23.450498Z",
     "iopub.status.busy": "2021-05-25T09:49:23.450222Z",
     "iopub.status.idle": "2021-05-25T09:49:23.464583Z",
     "shell.execute_reply": "2021-05-25T09:49:23.463694Z",
     "shell.execute_reply.started": "2021-05-25T09:49:23.450472Z"
    }
   },
   "outputs": [
    {
     "data": {
      "text/plain": [
       "0.3811659192825112"
      ]
     },
     "execution_count": 32,
     "metadata": {},
     "output_type": "execute_result"
    }
   ],
   "source": [
    "sum(y_test)/len(y_test)"
   ]
  },
  {
   "cell_type": "markdown",
   "metadata": {},
   "source": [
    "# XGBoost Classifier"
   ]
  },
  {
   "cell_type": "code",
   "execution_count": 33,
   "metadata": {
    "execution": {
     "iopub.execute_input": "2021-05-25T09:49:23.466028Z",
     "iopub.status.busy": "2021-05-25T09:49:23.465765Z",
     "iopub.status.idle": "2021-05-25T09:49:23.722337Z",
     "shell.execute_reply": "2021-05-25T09:49:23.721595Z",
     "shell.execute_reply.started": "2021-05-25T09:49:23.466004Z"
    }
   },
   "outputs": [
    {
     "name": "stdout",
     "output_type": "stream",
     "text": [
      "[0]\tvalidation_0-aucpr:0.81041\n",
      "[1]\tvalidation_0-aucpr:0.81931\n",
      "[2]\tvalidation_0-aucpr:0.80013\n",
      "[3]\tvalidation_0-aucpr:0.80153\n",
      "[4]\tvalidation_0-aucpr:0.80618\n",
      "[5]\tvalidation_0-aucpr:0.80306\n",
      "[6]\tvalidation_0-aucpr:0.83372\n",
      "[7]\tvalidation_0-aucpr:0.83367\n",
      "[8]\tvalidation_0-aucpr:0.83426\n",
      "[9]\tvalidation_0-aucpr:0.83316\n",
      "[10]\tvalidation_0-aucpr:0.83962\n",
      "[11]\tvalidation_0-aucpr:0.83590\n",
      "[12]\tvalidation_0-aucpr:0.83291\n",
      "[13]\tvalidation_0-aucpr:0.82954\n",
      "[14]\tvalidation_0-aucpr:0.82445\n",
      "[15]\tvalidation_0-aucpr:0.82490\n",
      "[16]\tvalidation_0-aucpr:0.82268\n",
      "[17]\tvalidation_0-aucpr:0.82253\n"
     ]
    },
    {
     "name": "stderr",
     "output_type": "stream",
     "text": [
      "/opt/conda/lib/python3.7/site-packages/xgboost/sklearn.py:1146: UserWarning: The use of label encoder in XGBClassifier is deprecated and will be removed in a future release. To remove this warning, do the following: 1) Pass option use_label_encoder=False when constructing XGBClassifier object; and 2) Encode your labels (y) as integers starting with 0, i.e. 0, 1, 2, ..., [num_class - 1].\n",
      "  warnings.warn(label_encoder_deprecation_msg, UserWarning)\n"
     ]
    },
    {
     "name": "stdout",
     "output_type": "stream",
     "text": [
      "[18]\tvalidation_0-aucpr:0.82602\n",
      "[19]\tvalidation_0-aucpr:0.82471\n"
     ]
    },
    {
     "data": {
      "text/plain": [
       "XGBClassifier(base_score=0.5, booster='gbtree', colsample_bylevel=1,\n",
       "              colsample_bynode=1, colsample_bytree=1, gamma=0, gpu_id=-1,\n",
       "              importance_type='gain', interaction_constraints='',\n",
       "              learning_rate=0.300000012, max_delta_step=0, max_depth=6,\n",
       "              min_child_weight=1, missing=1, monotone_constraints='()',\n",
       "              n_estimators=100, n_jobs=4, num_parallel_tree=1, random_state=0,\n",
       "              reg_alpha=0, reg_lambda=1, scale_pos_weight=1, subsample=1,\n",
       "              tree_method='exact', validate_parameters=1, verbosity=None)"
      ]
     },
     "execution_count": 33,
     "metadata": {},
     "output_type": "execute_result"
    }
   ],
   "source": [
    "cl_xgb=xgb.XGBClassifier(objective='binary:logistic', missing=1)\n",
    "cl_xgb.fit(x_train, y_train, \n",
    "           verbose=True,\n",
    "           early_stopping_rounds=10, \n",
    "           eval_metric='aucpr',\n",
    "           eval_set=[(x_test, y_test)])"
   ]
  },
  {
   "cell_type": "code",
   "execution_count": 34,
   "metadata": {
    "execution": {
     "iopub.execute_input": "2021-05-25T09:49:23.723966Z",
     "iopub.status.busy": "2021-05-25T09:49:23.723417Z",
     "iopub.status.idle": "2021-05-25T09:49:23.910447Z",
     "shell.execute_reply": "2021-05-25T09:49:23.909391Z",
     "shell.execute_reply.started": "2021-05-25T09:49:23.723923Z"
    }
   },
   "outputs": [
    {
     "name": "stderr",
     "output_type": "stream",
     "text": [
      "/opt/conda/lib/python3.7/site-packages/xgboost/data.py:114: UserWarning: Use subset (sliced data) of np.ndarray is not recommended because it will generate extra copies and increase memory consumption\n",
      "  \"because it will generate extra copies and increase \" +\n"
     ]
    },
    {
     "data": {
      "text/plain": [
       "<sklearn.metrics._plot.confusion_matrix.ConfusionMatrixDisplay at 0x7f00e5c4a3d0>"
      ]
     },
     "execution_count": 34,
     "metadata": {},
     "output_type": "execute_result"
    },
    {
     "data": {
      "image/png": "[encoded data removed]",
      "text/plain": [
       "<Figure size 432x288 with 2 Axes>"
      ]
     },
     "metadata": {
      "needs_background": "light"
     },
     "output_type": "display_data"
    }
   ],
   "source": [
    "plot_confusion_matrix(cl_xgb,\n",
    "                     x_test,\n",
    "                     y_test,\n",
    "                     values_format='d'\n",
    "                     )"
   ]
  },
  {
   "cell_type": "code",
   "execution_count": 35,
   "metadata": {
    "execution": {
     "iopub.execute_input": "2021-05-25T09:49:23.912026Z",
     "iopub.status.busy": "2021-05-25T09:49:23.911692Z",
     "iopub.status.idle": "2021-05-25T09:49:23.916120Z",
     "shell.execute_reply": "2021-05-25T09:49:23.915101Z",
     "shell.execute_reply.started": "2021-05-25T09:49:23.911997Z"
    }
   },
   "outputs": [],
   "source": [
    "#param_grid={\n",
    "#    'max_depth':[3,4,5],\n",
    "   # 'learning_rate':[0.1,0.01,0.05],\n",
    "   # 'gamma':[0.25, 0.5,1],\n",
    "   # 'reg_lambda':[0,1,10],\n",
    "    #'scale_pos_weight':[1,3,5]\n",
    "#}\n",
    "#opt_par= GridSearchCV(\n",
    "#estimator=xgb.XGBClassifier(objective='binary:logistic',\n",
    "#                          subsample=0.9,\n",
    "#                         colsample_bytree=0.5),\n",
    "#    param_grid=param_grid,\n",
    "#   scoring='roc_auc',\n",
    "#   verbose=0,\n",
    " #   n_jobs=10,\n",
    "  #  cv=3\n",
    "#)"
   ]
  },
  {
   "cell_type": "code",
   "execution_count": 36,
   "metadata": {
    "execution": {
     "iopub.execute_input": "2021-05-25T09:49:23.918009Z",
     "iopub.status.busy": "2021-05-25T09:49:23.917640Z",
     "iopub.status.idle": "2021-05-25T09:49:23.926645Z",
     "shell.execute_reply": "2021-05-25T09:49:23.925871Z",
     "shell.execute_reply.started": "2021-05-25T09:49:23.917971Z"
    }
   },
   "outputs": [],
   "source": [
    "#opt_par.fit(x_train, y_train, early_stopping_rounds=10,\n",
    " #          eval_metric='aucpr',\n",
    "  #         eval_set=[(x_test,y_test)],\n",
    "   #        verbose=False)\n",
    "\n",
    "#print(opt_par.best_params_)"
   ]
  },
  {
   "cell_type": "code",
   "execution_count": 37,
   "metadata": {
    "execution": {
     "iopub.execute_input": "2021-05-25T09:49:23.928574Z",
     "iopub.status.busy": "2021-05-25T09:49:23.928189Z",
     "iopub.status.idle": "2021-05-25T09:49:24.375831Z",
     "shell.execute_reply": "2021-05-25T09:49:24.374988Z",
     "shell.execute_reply.started": "2021-05-25T09:49:23.928535Z"
    }
   },
   "outputs": [
    {
     "name": "stdout",
     "output_type": "stream",
     "text": [
      "[0]\tvalidation_0-aucpr:0.71549\n",
      "[1]\tvalidation_0-aucpr:0.71699\n",
      "[2]\tvalidation_0-aucpr:0.74184\n",
      "[3]\tvalidation_0-aucpr:0.74004\n",
      "[4]\tvalidation_0-aucpr:0.72210\n",
      "[5]\tvalidation_0-aucpr:0.80519\n",
      "[6]\tvalidation_0-aucpr:0.80674\n",
      "[7]\tvalidation_0-aucpr:0.81151\n",
      "[8]\tvalidation_0-aucpr:0.81255\n",
      "[9]\tvalidation_0-aucpr:0.80766\n",
      "[10]\tvalidation_0-aucpr:0.81377\n",
      "[11]\tvalidation_0-aucpr:0.81512\n",
      "[12]\tvalidation_0-aucpr:0.80933\n",
      "[13]\tvalidation_0-aucpr:0.80846\n",
      "[14]\tvalidation_0-aucpr:0.81050\n",
      "[15]\tvalidation_0-aucpr:0.81724\n",
      "[16]\tvalidation_0-aucpr:0.81139\n",
      "[17]\tvalidation_0-aucpr:0.81427\n",
      "[18]\tvalidation_0-aucpr:0.81807\n",
      "[19]\tvalidation_0-aucpr:0.81992\n",
      "[20]\tvalidation_0-aucpr:0.81935\n"
     ]
    },
    {
     "name": "stderr",
     "output_type": "stream",
     "text": [
      "/opt/conda/lib/python3.7/site-packages/xgboost/sklearn.py:1146: UserWarning: The use of label encoder in XGBClassifier is deprecated and will be removed in a future release. To remove this warning, do the following: 1) Pass option use_label_encoder=False when constructing XGBClassifier object; and 2) Encode your labels (y) as integers starting with 0, i.e. 0, 1, 2, ..., [num_class - 1].\n",
      "  warnings.warn(label_encoder_deprecation_msg, UserWarning)\n"
     ]
    },
    {
     "name": "stdout",
     "output_type": "stream",
     "text": [
      "[21]\tvalidation_0-aucpr:0.81937\n",
      "[22]\tvalidation_0-aucpr:0.82101\n",
      "[23]\tvalidation_0-aucpr:0.81865\n",
      "[24]\tvalidation_0-aucpr:0.81766\n",
      "[25]\tvalidation_0-aucpr:0.81810\n",
      "[26]\tvalidation_0-aucpr:0.81956\n",
      "[27]\tvalidation_0-aucpr:0.81952\n",
      "[28]\tvalidation_0-aucpr:0.81964\n",
      "[29]\tvalidation_0-aucpr:0.82044\n",
      "[30]\tvalidation_0-aucpr:0.82147\n",
      "[31]\tvalidation_0-aucpr:0.82126\n",
      "[32]\tvalidation_0-aucpr:0.82034\n",
      "[33]\tvalidation_0-aucpr:0.82063\n",
      "[34]\tvalidation_0-aucpr:0.81883\n",
      "[35]\tvalidation_0-aucpr:0.81842\n",
      "[36]\tvalidation_0-aucpr:0.81873\n",
      "[37]\tvalidation_0-aucpr:0.81914\n",
      "[38]\tvalidation_0-aucpr:0.81392\n",
      "[39]\tvalidation_0-aucpr:0.81444\n"
     ]
    },
    {
     "data": {
      "text/plain": [
       "XGBClassifier(base_score=0.5, booster='gbtree', colsample_bylevel=1,\n",
       "              colsample_bynode=1, colsample_bytree=0.5, gamma=1, gpu_id=-1,\n",
       "              importance_type='gain', interaction_constraints='',\n",
       "              learning_rate=0.05, max_delta_step=0, max_depth=5,\n",
       "              min_child_weight=1, missing=nan, monotone_constraints='()',\n",
       "              n_estimators=100, n_jobs=4, num_parallel_tree=1, random_state=0,\n",
       "              reg_alpha=0, reg_lambda=10, scale_pos_weight=5, subsample=0.9,\n",
       "              tree_method='exact', validate_parameters=1, verbosity=None)"
      ]
     },
     "execution_count": 37,
     "metadata": {},
     "output_type": "execute_result"
    }
   ],
   "source": [
    "cl_xgb=xgb.XGBClassifier(objective='binary:logistic',\n",
    "       gamma=1,\n",
    "       learning_rate=0.05,\n",
    "       max_depth=5,\n",
    "       reg_lambda=10,\n",
    "       scale_pos_weight=5,\n",
    "       subsample=0.9,\n",
    "       colsample_bytree=0.5)\n",
    "\n",
    "cl_xgb.fit(x_train,\n",
    "          y_train,\n",
    "          verbose=True,\n",
    "          early_stopping_rounds=10, \n",
    "          eval_metric='aucpr',\n",
    "          eval_set=[(x_test, y_test)])"
   ]
  },
  {
   "cell_type": "code",
   "execution_count": 53,
   "metadata": {
    "execution": {
     "iopub.execute_input": "2021-05-25T10:16:23.117605Z",
     "iopub.status.busy": "2021-05-25T10:16:23.117028Z",
     "iopub.status.idle": "2021-05-25T10:16:23.286263Z",
     "shell.execute_reply": "2021-05-25T10:16:23.285481Z",
     "shell.execute_reply.started": "2021-05-25T10:16:23.117568Z"
    }
   },
   "outputs": [
    {
     "name": "stderr",
     "output_type": "stream",
     "text": [
      "/opt/conda/lib/python3.7/site-packages/xgboost/data.py:114: UserWarning: Use subset (sliced data) of np.ndarray is not recommended because it will generate extra copies and increase memory consumption\n",
      "  \"because it will generate extra copies and increase \" +\n"
     ]
    },
    {
     "data": {
      "text/plain": [
       "<sklearn.metrics._plot.confusion_matrix.ConfusionMatrixDisplay at 0x7f00e0f530d0>"
      ]
     },
     "execution_count": 53,
     "metadata": {},
     "output_type": "execute_result"
    },
    {
     "data": {
      "image/png": "[encoded data removed]",
      "text/plain": [
       "<Figure size 432x288 with 2 Axes>"
      ]
     },
     "metadata": {
      "needs_background": "light"
     },
     "output_type": "display_data"
    }
   ],
   "source": [
    "plot_confusion_matrix(cl_xgb,\n",
    "                     x_test,\n",
    "                     y_test,\n",
    "                     values_format='d'\n",
    "                     )"
   ]
  },
  {
   "cell_type": "code",
   "execution_count": 38,
   "metadata": {
    "execution": {
     "iopub.execute_input": "2021-05-25T09:49:24.377511Z",
     "iopub.status.busy": "2021-05-25T09:49:24.377154Z",
     "iopub.status.idle": "2021-05-25T09:49:24.897854Z",
     "shell.execute_reply": "2021-05-25T09:49:24.896684Z",
     "shell.execute_reply.started": "2021-05-25T09:49:24.377472Z"
    }
   },
   "outputs": [
    {
     "name": "stdout",
     "output_type": "stream",
     "text": [
      "[09:49:24] WARNING: ../src/learner.cc:1095: Starting in XGBoost 1.3.0, the default evaluation metric used with the objective 'binary:logistic' was changed from 'error' to 'logloss'. Explicitly set eval_metric if you'd like to restore the old behavior.\n",
      "weight: {'Sex_0': 1, 'Parch': 2, 'Pclass': 1, 'Age': 6, 'Embarked_Q': 1}\n",
      "gain: {'Sex_0': 185.828369, 'Parch': 13.959426875000002, 'Pclass': 54.086235, 'Age': 10.002540233333333, 'Embarked_Q': 5.07331276}\n",
      "cover: {'Sex_0': 372.0, 'Parch': 158.375, 'Pclass': 181.25, 'Age': 47.291666666666664, 'Embarked_Q': 21.0}\n",
      "total_gain: {'Sex_0': 185.828369, 'Parch': 27.918853750000004, 'Pclass': 54.086235, 'Age': 60.015241399999994, 'Embarked_Q': 5.07331276}\n",
      "total_cover: {'Sex_0': 372.0, 'Parch': 316.75, 'Pclass': 181.25, 'Age': 283.75, 'Embarked_Q': 21.0}\n"
     ]
    },
    {
     "data": {
      "image/svg+xml": [
       "<?xml version=\"1.0\" encoding=\"UTF-8\" standalone=\"no\"?>\n",
       "<!DOCTYPE svg PUBLIC \"-//W3C//DTD SVG 1.1//EN\"\n",
       " \"http://www.w3.org/Graphics/SVG/1.1/DTD/svg11.dtd\">\n",
       "<!-- Generated by graphviz version 2.47.0 (20210327.0129)\n",
       " -->\n",
       "<!-- Pages: 1 -->\n",
       "<svg width=\"1213pt\" height=\"479pt\"\n",
       " viewBox=\"0.00 0.00 1213.00 479.00\" xmlns=\"http://www.w3.org/2000/svg\" xmlns:xlink=\"http://www.w3.org/1999/xlink\">\n",
       "<g id=\"graph0\" class=\"graph\" transform=\"scale(1 1) rotate(0) translate(4 475)\">\n",
       "<polygon fill=\"white\" stroke=\"transparent\" points=\"-4,4 -4,-475 1209,-475 1209,4 -4,4\"/>\n",
       "<!-- 0 -->\n",
       "<g id=\"node1\" class=\"node\">\n",
       "<title>0</title>\n",
       "<path fill=\"lightgrey\" stroke=\"black\" d=\"M362.5,-471C362.5,-471 292.5,-471 292.5,-471 286.5,-471 280.5,-465 280.5,-459 280.5,-459 280.5,-447 280.5,-447 280.5,-441 286.5,-435 292.5,-435 292.5,-435 362.5,-435 362.5,-435 368.5,-435 374.5,-441 374.5,-447 374.5,-447 374.5,-459 374.5,-459 374.5,-465 368.5,-471 362.5,-471\"/>\n",
       "<text text-anchor=\"middle\" x=\"327.5\" y=\"-449.3\" font-family=\"Times-Roman\" font-size=\"14.00\">Sex_0&lt;0.5</text>\n",
       "</g>\n",
       "<!-- 1 -->\n",
       "<g id=\"node2\" class=\"node\">\n",
       "<title>1</title>\n",
       "<path fill=\"lightgrey\" stroke=\"black\" d=\"M296.5,-384C296.5,-384 230.5,-384 230.5,-384 224.5,-384 218.5,-378 218.5,-372 218.5,-372 218.5,-360 218.5,-360 218.5,-354 224.5,-348 230.5,-348 230.5,-348 296.5,-348 296.5,-348 302.5,-348 308.5,-354 308.5,-360 308.5,-360 308.5,-372 308.5,-372 308.5,-378 302.5,-384 296.5,-384\"/>\n",
       "<text text-anchor=\"middle\" x=\"263.5\" y=\"-362.3\" font-family=\"Times-Roman\" font-size=\"14.00\">Parch&lt;3.5</text>\n",
       "</g>\n",
       "<!-- 0&#45;&gt;1 -->\n",
       "<g id=\"edge1\" class=\"edge\">\n",
       "<title>0&#45;&gt;1</title>\n",
       "<path fill=\"none\" stroke=\"#0000ff\" d=\"M305.43,-434.79C299.48,-429.49 293.35,-423.37 288.5,-417 283.06,-409.87 278.29,-401.37 274.42,-393.42\"/>\n",
       "<polygon fill=\"#0000ff\" stroke=\"#0000ff\" points=\"277.5,-391.75 270.15,-384.12 271.14,-394.67 277.5,-391.75\"/>\n",
       "<text text-anchor=\"middle\" x=\"333\" y=\"-405.8\" font-family=\"Times-Roman\" font-size=\"14.00\">yes, missing</text>\n",
       "</g>\n",
       "<!-- 2 -->\n",
       "<g id=\"node3\" class=\"node\">\n",
       "<title>2</title>\n",
       "<path fill=\"lightgrey\" stroke=\"black\" d=\"M443,-384C443,-384 372,-384 372,-384 366,-384 360,-378 360,-372 360,-372 360,-360 360,-360 360,-354 366,-348 372,-348 372,-348 443,-348 443,-348 449,-348 455,-354 455,-360 455,-360 455,-372 455,-372 455,-378 449,-384 443,-384\"/>\n",
       "<text text-anchor=\"middle\" x=\"407.5\" y=\"-362.3\" font-family=\"Times-Roman\" font-size=\"14.00\">Pclass&lt;1.5</text>\n",
       "</g>\n",
       "<!-- 0&#45;&gt;2 -->\n",
       "<g id=\"edge2\" class=\"edge\">\n",
       "<title>0&#45;&gt;2</title>\n",
       "<path fill=\"none\" stroke=\"#ff0000\" d=\"M356.4,-434.83C363.78,-429.66 371.36,-423.59 377.5,-417 384.02,-410.01 389.81,-401.37 394.53,-393.25\"/>\n",
       "<polygon fill=\"#ff0000\" stroke=\"#ff0000\" points=\"397.63,-394.87 399.37,-384.42 391.49,-391.5 397.63,-394.87\"/>\n",
       "<text text-anchor=\"middle\" x=\"398\" y=\"-405.8\" font-family=\"Times-Roman\" font-size=\"14.00\">no</text>\n",
       "</g>\n",
       "<!-- 3 -->\n",
       "<g id=\"node4\" class=\"node\">\n",
       "<title>3</title>\n",
       "<path fill=\"lightgrey\" stroke=\"black\" d=\"M147,-297C147,-297 12,-297 12,-297 6,-297 0,-291 0,-285 0,-285 0,-273 0,-273 0,-267 6,-261 12,-261 12,-261 147,-261 147,-261 153,-261 159,-267 159,-273 159,-273 159,-285 159,-285 159,-291 153,-297 147,-297\"/>\n",
       "<text text-anchor=\"middle\" x=\"79.5\" y=\"-275.3\" font-family=\"Times-Roman\" font-size=\"14.00\">leaf=0.0843434334</text>\n",
       "</g>\n",
       "<!-- 1&#45;&gt;3 -->\n",
       "<g id=\"edge3\" class=\"edge\">\n",
       "<title>1&#45;&gt;3</title>\n",
       "<path fill=\"none\" stroke=\"#0000ff\" d=\"M218.03,-349.36C202.74,-343.71 185.7,-336.99 170.5,-330 152.57,-321.75 133.32,-311.41 117.17,-302.28\"/>\n",
       "<polygon fill=\"#0000ff\" stroke=\"#0000ff\" points=\"118.47,-298.99 108.06,-297.06 115,-305.06 118.47,-298.99\"/>\n",
       "<text text-anchor=\"middle\" x=\"215\" y=\"-318.8\" font-family=\"Times-Roman\" font-size=\"14.00\">yes, missing</text>\n",
       "</g>\n",
       "<!-- 4 -->\n",
       "<g id=\"node5\" class=\"node\">\n",
       "<title>4</title>\n",
       "<path fill=\"lightgrey\" stroke=\"black\" d=\"M338,-297C338,-297 189,-297 189,-297 183,-297 177,-291 177,-285 177,-285 177,-273 177,-273 177,-267 183,-261 189,-261 189,-261 338,-261 338,-261 344,-261 350,-267 350,-273 350,-273 350,-285 350,-285 350,-291 344,-297 338,-297\"/>\n",
       "<text text-anchor=\"middle\" x=\"263.5\" y=\"-275.3\" font-family=\"Times-Roman\" font-size=\"14.00\">leaf=&#45;0.00196078443</text>\n",
       "</g>\n",
       "<!-- 1&#45;&gt;4 -->\n",
       "<g id=\"edge4\" class=\"edge\">\n",
       "<title>1&#45;&gt;4</title>\n",
       "<path fill=\"none\" stroke=\"#ff0000\" d=\"M263.5,-347.8C263.5,-336.16 263.5,-320.55 263.5,-307.24\"/>\n",
       "<polygon fill=\"#ff0000\" stroke=\"#ff0000\" points=\"267,-307.18 263.5,-297.18 260,-307.18 267,-307.18\"/>\n",
       "<text text-anchor=\"middle\" x=\"273\" y=\"-318.8\" font-family=\"Times-Roman\" font-size=\"14.00\">no</text>\n",
       "</g>\n",
       "<!-- 5 -->\n",
       "<g id=\"node6\" class=\"node\">\n",
       "<title>5</title>\n",
       "<path fill=\"lightgrey\" stroke=\"black\" d=\"M435,-297C435,-297 380,-297 380,-297 374,-297 368,-291 368,-285 368,-285 368,-273 368,-273 368,-267 374,-261 380,-261 380,-261 435,-261 435,-261 441,-261 447,-267 447,-273 447,-273 447,-285 447,-285 447,-291 441,-297 435,-297\"/>\n",
       "<text text-anchor=\"middle\" x=\"407.5\" y=\"-275.3\" font-family=\"Times-Roman\" font-size=\"14.00\">Age&lt;5.5</text>\n",
       "</g>\n",
       "<!-- 2&#45;&gt;5 -->\n",
       "<g id=\"edge5\" class=\"edge\">\n",
       "<title>2&#45;&gt;5</title>\n",
       "<path fill=\"none\" stroke=\"#0000ff\" d=\"M407.5,-347.8C407.5,-336.16 407.5,-320.55 407.5,-307.24\"/>\n",
       "<polygon fill=\"#0000ff\" stroke=\"#0000ff\" points=\"411,-307.18 407.5,-297.18 404,-307.18 411,-307.18\"/>\n",
       "<text text-anchor=\"middle\" x=\"452\" y=\"-318.8\" font-family=\"Times-Roman\" font-size=\"14.00\">yes, missing</text>\n",
       "</g>\n",
       "<!-- 6 -->\n",
       "<g id=\"node7\" class=\"node\">\n",
       "<title>6</title>\n",
       "<path fill=\"lightgrey\" stroke=\"black\" d=\"M673.5,-297C673.5,-297 607.5,-297 607.5,-297 601.5,-297 595.5,-291 595.5,-285 595.5,-285 595.5,-273 595.5,-273 595.5,-267 601.5,-261 607.5,-261 607.5,-261 673.5,-261 673.5,-261 679.5,-261 685.5,-267 685.5,-273 685.5,-273 685.5,-285 685.5,-285 685.5,-291 679.5,-297 673.5,-297\"/>\n",
       "<text text-anchor=\"middle\" x=\"640.5\" y=\"-275.3\" font-family=\"Times-Roman\" font-size=\"14.00\">Parch&lt;0.5</text>\n",
       "</g>\n",
       "<!-- 2&#45;&gt;6 -->\n",
       "<g id=\"edge6\" class=\"edge\">\n",
       "<title>2&#45;&gt;6</title>\n",
       "<path fill=\"none\" stroke=\"#ff0000\" d=\"M454.37,-347.9C492.31,-334.06 545.8,-314.55 585.71,-299.99\"/>\n",
       "<polygon fill=\"#ff0000\" stroke=\"#ff0000\" points=\"587.09,-303.21 595.29,-296.49 584.69,-296.63 587.09,-303.21\"/>\n",
       "<text text-anchor=\"middle\" x=\"548\" y=\"-318.8\" font-family=\"Times-Roman\" font-size=\"14.00\">no</text>\n",
       "</g>\n",
       "<!-- 9 -->\n",
       "<g id=\"node8\" class=\"node\">\n",
       "<title>9</title>\n",
       "<path fill=\"lightgrey\" stroke=\"black\" d=\"M333,-210C333,-210 184,-210 184,-210 178,-210 172,-204 172,-198 172,-198 172,-186 172,-186 172,-180 178,-174 184,-174 184,-174 333,-174 333,-174 339,-174 345,-180 345,-186 345,-186 345,-198 345,-198 345,-204 339,-210 333,-210\"/>\n",
       "<text text-anchor=\"middle\" x=\"258.5\" y=\"-188.3\" font-family=\"Times-Roman\" font-size=\"14.00\">leaf=&#45;0.00163934415</text>\n",
       "</g>\n",
       "<!-- 5&#45;&gt;9 -->\n",
       "<g id=\"edge7\" class=\"edge\">\n",
       "<title>5&#45;&gt;9</title>\n",
       "<path fill=\"none\" stroke=\"#0000ff\" d=\"M367.89,-263.86C344.88,-255.51 319.46,-246 314.5,-243 302.71,-235.86 291.11,-226.09 281.55,-217.08\"/>\n",
       "<polygon fill=\"#0000ff\" stroke=\"#0000ff\" points=\"283.96,-214.55 274.35,-210.08 279.08,-219.56 283.96,-214.55\"/>\n",
       "<text text-anchor=\"middle\" x=\"359\" y=\"-231.8\" font-family=\"Times-Roman\" font-size=\"14.00\">yes, missing</text>\n",
       "</g>\n",
       "<!-- 10 -->\n",
       "<g id=\"node9\" class=\"node\">\n",
       "<title>10</title>\n",
       "<path fill=\"lightgrey\" stroke=\"black\" d=\"M439.5,-210C439.5,-210 375.5,-210 375.5,-210 369.5,-210 363.5,-204 363.5,-198 363.5,-198 363.5,-186 363.5,-186 363.5,-180 369.5,-174 375.5,-174 375.5,-174 439.5,-174 439.5,-174 445.5,-174 451.5,-180 451.5,-186 451.5,-186 451.5,-198 451.5,-198 451.5,-204 445.5,-210 439.5,-210\"/>\n",
       "<text text-anchor=\"middle\" x=\"407.5\" y=\"-188.3\" font-family=\"Times-Roman\" font-size=\"14.00\">Age&lt;60.5</text>\n",
       "</g>\n",
       "<!-- 5&#45;&gt;10 -->\n",
       "<g id=\"edge8\" class=\"edge\">\n",
       "<title>5&#45;&gt;10</title>\n",
       "<path fill=\"none\" stroke=\"#ff0000\" d=\"M407.5,-260.8C407.5,-249.16 407.5,-233.55 407.5,-220.24\"/>\n",
       "<polygon fill=\"#ff0000\" stroke=\"#ff0000\" points=\"411,-220.18 407.5,-210.18 404,-220.18 411,-220.18\"/>\n",
       "<text text-anchor=\"middle\" x=\"417\" y=\"-231.8\" font-family=\"Times-Roman\" font-size=\"14.00\">no</text>\n",
       "</g>\n",
       "<!-- 11 -->\n",
       "<g id=\"node14\" class=\"node\">\n",
       "<title>11</title>\n",
       "<path fill=\"lightgrey\" stroke=\"black\" d=\"M672.5,-210C672.5,-210 608.5,-210 608.5,-210 602.5,-210 596.5,-204 596.5,-198 596.5,-198 596.5,-186 596.5,-186 596.5,-180 602.5,-174 608.5,-174 608.5,-174 672.5,-174 672.5,-174 678.5,-174 684.5,-180 684.5,-186 684.5,-186 684.5,-198 684.5,-198 684.5,-204 678.5,-210 672.5,-210\"/>\n",
       "<text text-anchor=\"middle\" x=\"640.5\" y=\"-188.3\" font-family=\"Times-Roman\" font-size=\"14.00\">Age&lt;24.5</text>\n",
       "</g>\n",
       "<!-- 6&#45;&gt;11 -->\n",
       "<g id=\"edge13\" class=\"edge\">\n",
       "<title>6&#45;&gt;11</title>\n",
       "<path fill=\"none\" stroke=\"#0000ff\" d=\"M640.5,-260.8C640.5,-249.16 640.5,-233.55 640.5,-220.24\"/>\n",
       "<polygon fill=\"#0000ff\" stroke=\"#0000ff\" points=\"644,-220.18 640.5,-210.18 637,-220.18 644,-220.18\"/>\n",
       "<text text-anchor=\"middle\" x=\"685\" y=\"-231.8\" font-family=\"Times-Roman\" font-size=\"14.00\">yes, missing</text>\n",
       "</g>\n",
       "<!-- 12 -->\n",
       "<g id=\"node15\" class=\"node\">\n",
       "<title>12</title>\n",
       "<path fill=\"lightgrey\" stroke=\"black\" d=\"M962,-210C962,-210 907,-210 907,-210 901,-210 895,-204 895,-198 895,-198 895,-186 895,-186 895,-180 901,-174 907,-174 907,-174 962,-174 962,-174 968,-174 974,-180 974,-186 974,-186 974,-198 974,-198 974,-204 968,-210 962,-210\"/>\n",
       "<text text-anchor=\"middle\" x=\"934.5\" y=\"-188.3\" font-family=\"Times-Roman\" font-size=\"14.00\">Age&lt;9.5</text>\n",
       "</g>\n",
       "<!-- 6&#45;&gt;12 -->\n",
       "<g id=\"edge14\" class=\"edge\">\n",
       "<title>6&#45;&gt;12</title>\n",
       "<path fill=\"none\" stroke=\"#ff0000\" d=\"M685.79,-264.91C739.74,-249.31 829.52,-223.35 885.17,-207.26\"/>\n",
       "<polygon fill=\"#ff0000\" stroke=\"#ff0000\" points=\"886.18,-210.61 894.82,-204.47 884.24,-203.89 886.18,-210.61\"/>\n",
       "<text text-anchor=\"middle\" x=\"815\" y=\"-231.8\" font-family=\"Times-Roman\" font-size=\"14.00\">no</text>\n",
       "</g>\n",
       "<!-- 13 -->\n",
       "<g id=\"node10\" class=\"node\">\n",
       "<title>13</title>\n",
       "<path fill=\"lightgrey\" stroke=\"black\" d=\"M334,-123C334,-123 199,-123 199,-123 193,-123 187,-117 187,-111 187,-111 187,-99 187,-99 187,-93 193,-87 199,-87 199,-87 334,-87 334,-87 340,-87 346,-93 346,-99 346,-99 346,-111 346,-111 346,-117 340,-123 334,-123\"/>\n",
       "<text text-anchor=\"middle\" x=\"266.5\" y=\"-101.3\" font-family=\"Times-Roman\" font-size=\"14.00\">leaf=0.0578947365</text>\n",
       "</g>\n",
       "<!-- 10&#45;&gt;13 -->\n",
       "<g id=\"edge9\" class=\"edge\">\n",
       "<title>10&#45;&gt;13</title>\n",
       "<path fill=\"none\" stroke=\"#0000ff\" d=\"M363.47,-176.51C343.77,-169.61 323.07,-161.65 314.5,-156 304.09,-149.14 294.24,-139.63 286.2,-130.76\"/>\n",
       "<polygon fill=\"#0000ff\" stroke=\"#0000ff\" points=\"288.84,-128.45 279.64,-123.2 283.55,-133.04 288.84,-128.45\"/>\n",
       "<text text-anchor=\"middle\" x=\"359\" y=\"-144.8\" font-family=\"Times-Roman\" font-size=\"14.00\">yes, missing</text>\n",
       "</g>\n",
       "<!-- 14 -->\n",
       "<g id=\"node11\" class=\"node\">\n",
       "<title>14</title>\n",
       "<path fill=\"lightgrey\" stroke=\"black\" d=\"M439.5,-123C439.5,-123 375.5,-123 375.5,-123 369.5,-123 363.5,-117 363.5,-111 363.5,-111 363.5,-99 363.5,-99 363.5,-93 369.5,-87 375.5,-87 375.5,-87 439.5,-87 439.5,-87 445.5,-87 451.5,-93 451.5,-99 451.5,-99 451.5,-111 451.5,-111 451.5,-117 445.5,-123 439.5,-123\"/>\n",
       "<text text-anchor=\"middle\" x=\"407.5\" y=\"-101.3\" font-family=\"Times-Roman\" font-size=\"14.00\">Age&lt;75.5</text>\n",
       "</g>\n",
       "<!-- 10&#45;&gt;14 -->\n",
       "<g id=\"edge10\" class=\"edge\">\n",
       "<title>10&#45;&gt;14</title>\n",
       "<path fill=\"none\" stroke=\"#ff0000\" d=\"M407.5,-173.8C407.5,-162.16 407.5,-146.55 407.5,-133.24\"/>\n",
       "<polygon fill=\"#ff0000\" stroke=\"#ff0000\" points=\"411,-133.18 407.5,-123.18 404,-133.18 411,-133.18\"/>\n",
       "<text text-anchor=\"middle\" x=\"417\" y=\"-144.8\" font-family=\"Times-Roman\" font-size=\"14.00\">no</text>\n",
       "</g>\n",
       "<!-- 19 -->\n",
       "<g id=\"node12\" class=\"node\">\n",
       "<title>19</title>\n",
       "<path fill=\"lightgrey\" stroke=\"black\" d=\"M297.5,-36C297.5,-36 157.5,-36 157.5,-36 151.5,-36 145.5,-30 145.5,-24 145.5,-24 145.5,-12 145.5,-12 145.5,-6 151.5,0 157.5,0 157.5,0 297.5,0 297.5,0 303.5,0 309.5,-6 309.5,-12 309.5,-12 309.5,-24 309.5,-24 309.5,-30 303.5,-36 297.5,-36\"/>\n",
       "<text text-anchor=\"middle\" x=\"227.5\" y=\"-14.3\" font-family=\"Times-Roman\" font-size=\"14.00\">leaf=&#45;0.0148936165</text>\n",
       "</g>\n",
       "<!-- 14&#45;&gt;19 -->\n",
       "<g id=\"edge11\" class=\"edge\">\n",
       "<title>14&#45;&gt;19</title>\n",
       "<path fill=\"none\" stroke=\"#0000ff\" d=\"M363.37,-89.05C347.71,-83.31 330.1,-76.36 314.5,-69 297.25,-60.86 278.83,-50.54 263.41,-41.38\"/>\n",
       "<polygon fill=\"#0000ff\" stroke=\"#0000ff\" points=\"265.08,-38.31 254.71,-36.16 261.48,-44.31 265.08,-38.31\"/>\n",
       "<text text-anchor=\"middle\" x=\"359\" y=\"-57.8\" font-family=\"Times-Roman\" font-size=\"14.00\">yes, missing</text>\n",
       "</g>\n",
       "<!-- 20 -->\n",
       "<g id=\"node13\" class=\"node\">\n",
       "<title>20</title>\n",
       "<path fill=\"lightgrey\" stroke=\"black\" d=\"M475,-36C475,-36 340,-36 340,-36 334,-36 328,-30 328,-24 328,-24 328,-12 328,-12 328,-6 334,0 340,0 340,0 475,0 475,0 481,0 487,-6 487,-12 487,-12 487,-24 487,-24 487,-30 481,-36 475,-36\"/>\n",
       "<text text-anchor=\"middle\" x=\"407.5\" y=\"-14.3\" font-family=\"Times-Roman\" font-size=\"14.00\">leaf=0.0111111114</text>\n",
       "</g>\n",
       "<!-- 14&#45;&gt;20 -->\n",
       "<g id=\"edge12\" class=\"edge\">\n",
       "<title>14&#45;&gt;20</title>\n",
       "<path fill=\"none\" stroke=\"#ff0000\" d=\"M407.5,-86.8C407.5,-75.16 407.5,-59.55 407.5,-46.24\"/>\n",
       "<polygon fill=\"#ff0000\" stroke=\"#ff0000\" points=\"411,-46.18 407.5,-36.18 404,-46.18 411,-46.18\"/>\n",
       "<text text-anchor=\"middle\" x=\"417\" y=\"-57.8\" font-family=\"Times-Roman\" font-size=\"14.00\">no</text>\n",
       "</g>\n",
       "<!-- 15 -->\n",
       "<g id=\"node16\" class=\"node\">\n",
       "<title>15</title>\n",
       "<path fill=\"lightgrey\" stroke=\"black\" d=\"M650.5,-123C650.5,-123 510.5,-123 510.5,-123 504.5,-123 498.5,-117 498.5,-111 498.5,-111 498.5,-99 498.5,-99 498.5,-93 504.5,-87 510.5,-87 510.5,-87 650.5,-87 650.5,-87 656.5,-87 662.5,-93 662.5,-99 662.5,-99 662.5,-111 662.5,-111 662.5,-117 656.5,-123 650.5,-123\"/>\n",
       "<text text-anchor=\"middle\" x=\"580.5\" y=\"-101.3\" font-family=\"Times-Roman\" font-size=\"14.00\">leaf=&#45;0.0270386282</text>\n",
       "</g>\n",
       "<!-- 11&#45;&gt;15 -->\n",
       "<g id=\"edge15\" class=\"edge\">\n",
       "<title>11&#45;&gt;15</title>\n",
       "<path fill=\"none\" stroke=\"#0000ff\" d=\"M617.08,-173.76C611.11,-168.55 605.09,-162.48 600.5,-156 595.56,-149.03 591.6,-140.66 588.55,-132.78\"/>\n",
       "<polygon fill=\"#0000ff\" stroke=\"#0000ff\" points=\"591.79,-131.47 585.16,-123.21 585.19,-133.8 591.79,-131.47\"/>\n",
       "<text text-anchor=\"middle\" x=\"645\" y=\"-144.8\" font-family=\"Times-Roman\" font-size=\"14.00\">yes, missing</text>\n",
       "</g>\n",
       "<!-- 16 -->\n",
       "<g id=\"node17\" class=\"node\">\n",
       "<title>16</title>\n",
       "<path fill=\"lightgrey\" stroke=\"black\" d=\"M766,-123C766,-123 693,-123 693,-123 687,-123 681,-117 681,-111 681,-111 681,-99 681,-99 681,-93 687,-87 693,-87 693,-87 766,-87 766,-87 772,-87 778,-93 778,-99 778,-99 778,-111 778,-111 778,-117 772,-123 766,-123\"/>\n",
       "<text text-anchor=\"middle\" x=\"729.5\" y=\"-101.3\" font-family=\"Times-Roman\" font-size=\"14.00\">Age&lt;32.25</text>\n",
       "</g>\n",
       "<!-- 11&#45;&gt;16 -->\n",
       "<g id=\"edge16\" class=\"edge\">\n",
       "<title>11&#45;&gt;16</title>\n",
       "<path fill=\"none\" stroke=\"#ff0000\" d=\"M667.23,-173.92C674.76,-168.58 682.74,-162.4 689.5,-156 697.37,-148.55 705.05,-139.52 711.54,-131.2\"/>\n",
       "<polygon fill=\"#ff0000\" stroke=\"#ff0000\" points=\"714.35,-133.28 717.59,-123.19 708.77,-129.05 714.35,-133.28\"/>\n",
       "<text text-anchor=\"middle\" x=\"713\" y=\"-144.8\" font-family=\"Times-Roman\" font-size=\"14.00\">no</text>\n",
       "</g>\n",
       "<!-- 17 -->\n",
       "<g id=\"node20\" class=\"node\">\n",
       "<title>17</title>\n",
       "<path fill=\"lightgrey\" stroke=\"black\" d=\"M994,-123C994,-123 875,-123 875,-123 869,-123 863,-117 863,-111 863,-111 863,-99 863,-99 863,-93 869,-87 875,-87 875,-87 994,-87 994,-87 1000,-87 1006,-93 1006,-99 1006,-99 1006,-111 1006,-111 1006,-117 1000,-123 994,-123\"/>\n",
       "<text text-anchor=\"middle\" x=\"934.5\" y=\"-101.3\" font-family=\"Times-Roman\" font-size=\"14.00\">Embarked_Q&lt;0.5</text>\n",
       "</g>\n",
       "<!-- 12&#45;&gt;17 -->\n",
       "<g id=\"edge19\" class=\"edge\">\n",
       "<title>12&#45;&gt;17</title>\n",
       "<path fill=\"none\" stroke=\"#0000ff\" d=\"M934.5,-173.8C934.5,-162.16 934.5,-146.55 934.5,-133.24\"/>\n",
       "<polygon fill=\"#0000ff\" stroke=\"#0000ff\" points=\"938,-133.18 934.5,-123.18 931,-133.18 938,-133.18\"/>\n",
       "<text text-anchor=\"middle\" x=\"979\" y=\"-144.8\" font-family=\"Times-Roman\" font-size=\"14.00\">yes, missing</text>\n",
       "</g>\n",
       "<!-- 18 -->\n",
       "<g id=\"node21\" class=\"node\">\n",
       "<title>18</title>\n",
       "<path fill=\"lightgrey\" stroke=\"black\" d=\"M1167,-123C1167,-123 1036,-123 1036,-123 1030,-123 1024,-117 1024,-111 1024,-111 1024,-99 1024,-99 1024,-93 1030,-87 1036,-87 1036,-87 1167,-87 1167,-87 1173,-87 1179,-93 1179,-99 1179,-99 1179,-111 1179,-111 1179,-117 1173,-123 1167,-123\"/>\n",
       "<text text-anchor=\"middle\" x=\"1101.5\" y=\"-101.3\" font-family=\"Times-Roman\" font-size=\"14.00\">leaf=&#45;0.027536232</text>\n",
       "</g>\n",
       "<!-- 12&#45;&gt;18 -->\n",
       "<g id=\"edge20\" class=\"edge\">\n",
       "<title>12&#45;&gt;18</title>\n",
       "<path fill=\"none\" stroke=\"#ff0000\" d=\"M974.29,-178.34C991.1,-172.4 1010.64,-164.71 1027.5,-156 1042.27,-148.36 1057.66,-138.35 1070.54,-129.29\"/>\n",
       "<polygon fill=\"#ff0000\" stroke=\"#ff0000\" points=\"1072.94,-131.88 1079.03,-123.21 1068.86,-126.19 1072.94,-131.88\"/>\n",
       "<text text-anchor=\"middle\" x=\"1063\" y=\"-144.8\" font-family=\"Times-Roman\" font-size=\"14.00\">no</text>\n",
       "</g>\n",
       "<!-- 23 -->\n",
       "<g id=\"node18\" class=\"node\">\n",
       "<title>23</title>\n",
       "<path fill=\"lightgrey\" stroke=\"black\" d=\"M652,-36C652,-36 517,-36 517,-36 511,-36 505,-30 505,-24 505,-24 505,-12 505,-12 505,-6 511,0 517,0 517,0 652,0 652,0 658,0 664,-6 664,-12 664,-12 664,-24 664,-24 664,-30 658,-36 652,-36\"/>\n",
       "<text text-anchor=\"middle\" x=\"584.5\" y=\"-14.3\" font-family=\"Times-Roman\" font-size=\"14.00\">leaf=0.0194968563</text>\n",
       "</g>\n",
       "<!-- 16&#45;&gt;23 -->\n",
       "<g id=\"edge17\" class=\"edge\">\n",
       "<title>16&#45;&gt;23</title>\n",
       "<path fill=\"none\" stroke=\"#0000ff\" d=\"M685.96,-86.86C674.18,-81.65 661.61,-75.55 650.5,-69 637.35,-61.25 623.75,-51.32 612.33,-42.36\"/>\n",
       "<polygon fill=\"#0000ff\" stroke=\"#0000ff\" points=\"614.44,-39.56 604.45,-36.05 610.07,-45.03 614.44,-39.56\"/>\n",
       "<text text-anchor=\"middle\" x=\"695\" y=\"-57.8\" font-family=\"Times-Roman\" font-size=\"14.00\">yes, missing</text>\n",
       "</g>\n",
       "<!-- 24 -->\n",
       "<g id=\"node19\" class=\"node\">\n",
       "<title>24</title>\n",
       "<path fill=\"lightgrey\" stroke=\"black\" d=\"M825,-36C825,-36 694,-36 694,-36 688,-36 682,-30 682,-24 682,-24 682,-12 682,-12 682,-6 688,0 694,0 694,0 825,0 825,0 831,0 837,-6 837,-12 837,-12 837,-24 837,-24 837,-30 831,-36 825,-36\"/>\n",
       "<text text-anchor=\"middle\" x=\"759.5\" y=\"-14.3\" font-family=\"Times-Roman\" font-size=\"14.00\">leaf=&#45;0.032773111</text>\n",
       "</g>\n",
       "<!-- 16&#45;&gt;24 -->\n",
       "<g id=\"edge18\" class=\"edge\">\n",
       "<title>16&#45;&gt;24</title>\n",
       "<path fill=\"none\" stroke=\"#ff0000\" d=\"M735.57,-86.8C739.72,-75.05 745.3,-59.24 750.03,-45.84\"/>\n",
       "<polygon fill=\"#ff0000\" stroke=\"#ff0000\" points=\"753.41,-46.77 753.44,-36.18 746.81,-44.44 753.41,-46.77\"/>\n",
       "<text text-anchor=\"middle\" x=\"756\" y=\"-57.8\" font-family=\"Times-Roman\" font-size=\"14.00\">no</text>\n",
       "</g>\n",
       "<!-- 25 -->\n",
       "<g id=\"node22\" class=\"node\">\n",
       "<title>25</title>\n",
       "<path fill=\"lightgrey\" stroke=\"black\" d=\"M1002,-36C1002,-36 867,-36 867,-36 861,-36 855,-30 855,-24 855,-24 855,-12 855,-12 855,-6 861,0 867,0 867,0 1002,0 1002,0 1008,0 1014,-6 1014,-12 1014,-12 1014,-24 1014,-24 1014,-30 1008,-36 1002,-36\"/>\n",
       "<text text-anchor=\"middle\" x=\"934.5\" y=\"-14.3\" font-family=\"Times-Roman\" font-size=\"14.00\">leaf=0.0500000007</text>\n",
       "</g>\n",
       "<!-- 17&#45;&gt;25 -->\n",
       "<g id=\"edge21\" class=\"edge\">\n",
       "<title>17&#45;&gt;25</title>\n",
       "<path fill=\"none\" stroke=\"#0000ff\" d=\"M934.5,-86.8C934.5,-75.16 934.5,-59.55 934.5,-46.24\"/>\n",
       "<polygon fill=\"#0000ff\" stroke=\"#0000ff\" points=\"938,-46.18 934.5,-36.18 931,-46.18 938,-46.18\"/>\n",
       "<text text-anchor=\"middle\" x=\"979\" y=\"-57.8\" font-family=\"Times-Roman\" font-size=\"14.00\">yes, missing</text>\n",
       "</g>\n",
       "<!-- 26 -->\n",
       "<g id=\"node23\" class=\"node\">\n",
       "<title>26</title>\n",
       "<path fill=\"lightgrey\" stroke=\"black\" d=\"M1193,-36C1193,-36 1044,-36 1044,-36 1038,-36 1032,-30 1032,-24 1032,-24 1032,-12 1032,-12 1032,-6 1038,0 1044,0 1044,0 1193,0 1193,0 1199,0 1205,-6 1205,-12 1205,-12 1205,-24 1205,-24 1205,-30 1199,-36 1193,-36\"/>\n",
       "<text text-anchor=\"middle\" x=\"1118.5\" y=\"-14.3\" font-family=\"Times-Roman\" font-size=\"14.00\">leaf=&#45;0.00909090973</text>\n",
       "</g>\n",
       "<!-- 17&#45;&gt;26 -->\n",
       "<g id=\"edge22\" class=\"edge\">\n",
       "<title>17&#45;&gt;26</title>\n",
       "<path fill=\"none\" stroke=\"#ff0000\" d=\"M983.79,-86.94C998.06,-81.6 1013.55,-75.42 1027.5,-69 1045.43,-60.75 1064.68,-50.41 1080.83,-41.28\"/>\n",
       "<polygon fill=\"#ff0000\" stroke=\"#ff0000\" points=\"1083,-44.06 1089.94,-36.06 1079.53,-37.99 1083,-44.06\"/>\n",
       "<text text-anchor=\"middle\" x=\"1066\" y=\"-57.8\" font-family=\"Times-Roman\" font-size=\"14.00\">no</text>\n",
       "</g>\n",
       "</g>\n",
       "</svg>\n"
      ],
      "text/plain": [
       "<graphviz.files.Source at 0x7f00e40d0050>"
      ]
     },
     "execution_count": 38,
     "metadata": {},
     "output_type": "execute_result"
    }
   ],
   "source": [
    "cl_xgb=xgb.XGBClassifier(objective='binary:logistic',\n",
    "       gamma=1,\n",
    "       learning_rate=0.05,\n",
    "       max_depth=5,\n",
    "       reg_lambda=10,\n",
    "       scale_pos_weight=5,\n",
    "       subsample=0.9,\n",
    "       colsample_bytree=0.5,\n",
    "       n_estimators=1)\n",
    "\n",
    "cl_xgb.fit(x_train,\n",
    "          y_train)\n",
    "bstr=cl_xgb.get_booster()\n",
    "for importance_type in ('weight', 'gain', 'cover', 'total_gain', 'total_cover'):\n",
    "    print('%s:'%importance_type, bstr.get_score(importance_type=importance_type))\n",
    "node_par={'shape':'box',\n",
    "           'style':'filled, rounded'}\n",
    "leaf_par={'shape':'box',\n",
    "           'style':'filled, rounded'}\n",
    "xgb.to_graphviz(cl_xgb, num_trees=0, size=\"5,5\", \n",
    "               condition_node_params=node_par,\n",
    "               leaf_node_params=leaf_par)"
   ]
  },
  {
   "cell_type": "markdown",
   "metadata": {},
   "source": [
    "# Linear Support Vector Classifier"
   ]
  },
  {
   "cell_type": "code",
   "execution_count": 42,
   "metadata": {
    "execution": {
     "iopub.execute_input": "2021-05-25T09:49:50.986133Z",
     "iopub.status.busy": "2021-05-25T09:49:50.985795Z",
     "iopub.status.idle": "2021-05-25T09:49:51.264621Z",
     "shell.execute_reply": "2021-05-25T09:49:51.263683Z",
     "shell.execute_reply.started": "2021-05-25T09:49:50.986101Z"
    }
   },
   "outputs": [
    {
     "name": "stderr",
     "output_type": "stream",
     "text": [
      "/opt/conda/lib/python3.7/site-packages/sklearn/svm/_base.py:986: ConvergenceWarning: Liblinear failed to converge, increase the number of iterations.\n",
      "  \"the number of iterations.\", ConvergenceWarning)\n"
     ]
    },
    {
     "data": {
      "text/plain": [
       "78.23"
      ]
     },
     "execution_count": 42,
     "metadata": {},
     "output_type": "execute_result"
    }
   ],
   "source": [
    "svc = LinearSVC(max_iter=10000,dual=True)\n",
    "svc.fit(x_train, y_train)\n",
    "\n",
    "pred = svc.predict(x_test)\n",
    "\n",
    "acc_svc = round(svc.score(x_train, y_train) * 100, 2)\n",
    "acc_svc"
   ]
  },
  {
   "cell_type": "code",
   "execution_count": 54,
   "metadata": {
    "execution": {
     "iopub.execute_input": "2021-05-25T10:16:42.649717Z",
     "iopub.status.busy": "2021-05-25T10:16:42.649374Z",
     "iopub.status.idle": "2021-05-25T10:16:42.791791Z",
     "shell.execute_reply": "2021-05-25T10:16:42.790767Z",
     "shell.execute_reply.started": "2021-05-25T10:16:42.649683Z"
    }
   },
   "outputs": [
    {
     "data": {
      "text/plain": [
       "<sklearn.metrics._plot.confusion_matrix.ConfusionMatrixDisplay at 0x7f015d38ff90>"
      ]
     },
     "execution_count": 54,
     "metadata": {},
     "output_type": "execute_result"
    },
    {
     "data": {
      "image/png": "[encoded data removed]",
      "text/plain": [
       "<Figure size 432x288 with 2 Axes>"
      ]
     },
     "metadata": {
      "needs_background": "light"
     },
     "output_type": "display_data"
    }
   ],
   "source": [
    "plot_confusion_matrix(svc,\n",
    "                     x_test,\n",
    "                     y_test,\n",
    "                     values_format='d'\n",
    "                     )"
   ]
  },
  {
   "cell_type": "markdown",
   "metadata": {},
   "source": [
    "# Decision Tree Classifier"
   ]
  },
  {
   "cell_type": "code",
   "execution_count": 51,
   "metadata": {
    "execution": {
     "iopub.execute_input": "2021-05-25T09:53:24.922288Z",
     "iopub.status.busy": "2021-05-25T09:53:24.921947Z",
     "iopub.status.idle": "2021-05-25T09:53:24.939418Z",
     "shell.execute_reply": "2021-05-25T09:53:24.938390Z",
     "shell.execute_reply.started": "2021-05-25T09:53:24.922257Z"
    }
   },
   "outputs": [
    {
     "data": {
      "text/plain": [
       "98.2"
      ]
     },
     "execution_count": 51,
     "metadata": {},
     "output_type": "execute_result"
    }
   ],
   "source": [
    "dec = DecisionTreeClassifier()\n",
    "dec.fit(x_enc, y)\n",
    "dec_pred = dec.predict(test)\n",
    "acc_dec= round(dec.score(x_enc,y) * 100, 2)\n",
    "acc_dec"
   ]
  },
  {
   "cell_type": "code",
   "execution_count": 63,
   "metadata": {
    "execution": {
     "iopub.execute_input": "2021-05-25T10:28:43.954798Z",
     "iopub.status.busy": "2021-05-25T10:28:43.954387Z",
     "iopub.status.idle": "2021-05-25T10:29:04.435494Z",
     "shell.execute_reply": "2021-05-25T10:29:04.434294Z",
     "shell.execute_reply.started": "2021-05-25T10:28:43.954760Z"
    }
   },
   "outputs": [
    {
     "data": {
      "image/png": "[encoded data removed]",
      "text/plain": [
       "<Figure size 2520x1800 with 1 Axes>"
      ]
     },
     "metadata": {
      "needs_background": "light"
     },
     "output_type": "display_data"
    }
   ],
   "source": [
    "from sklearn import tree\n",
    "fig = plt.figure(figsize=(35,25))\n",
    "_ = tree.plot_tree(dec, \n",
    "                   filled=True)"
   ]
  },
  {
   "cell_type": "code",
   "execution_count": 55,
   "metadata": {
    "execution": {
     "iopub.execute_input": "2021-05-25T10:16:55.771380Z",
     "iopub.status.busy": "2021-05-25T10:16:55.771049Z",
     "iopub.status.idle": "2021-05-25T10:16:55.919301Z",
     "shell.execute_reply": "2021-05-25T10:16:55.918323Z",
     "shell.execute_reply.started": "2021-05-25T10:16:55.771344Z"
    }
   },
   "outputs": [
    {
     "data": {
      "text/plain": [
       "<sklearn.metrics._plot.confusion_matrix.ConfusionMatrixDisplay at 0x7f015d2cf650>"
      ]
     },
     "execution_count": 55,
     "metadata": {},
     "output_type": "execute_result"
    },
    {
     "data": {
      "image/png": "[encoded data removed]",
      "text/plain": [
       "<Figure size 432x288 with 2 Axes>"
      ]
     },
     "metadata": {
      "needs_background": "light"
     },
     "output_type": "display_data"
    }
   ],
   "source": [
    "plot_confusion_matrix(dec,\n",
    "                     x_test,\n",
    "                     y_test,\n",
    "                     values_format='d'\n",
    "                     )"
   ]
  },
  {
   "cell_type": "markdown",
   "metadata": {},
   "source": [
    "# Random Forest Classifier"
   ]
  },
  {
   "cell_type": "code",
   "execution_count": 52,
   "metadata": {
    "execution": {
     "iopub.execute_input": "2021-05-25T10:15:44.190342Z",
     "iopub.status.busy": "2021-05-25T10:15:44.189926Z",
     "iopub.status.idle": "2021-05-25T10:15:44.690991Z",
     "shell.execute_reply": "2021-05-25T10:15:44.690375Z",
     "shell.execute_reply.started": "2021-05-25T10:15:44.190303Z"
    }
   },
   "outputs": [
    {
     "data": {
      "text/plain": [
       "0.9069069069069069"
      ]
     },
     "execution_count": 52,
     "metadata": {},
     "output_type": "execute_result"
    }
   ],
   "source": [
    "random_forest = RandomForestClassifier(criterion = \"entropy\", \n",
    "                                       min_samples_leaf = 1, \n",
    "                                       min_samples_split = 1,\n",
    "                                       n_estimators=100, \n",
    "                                       max_features='auto', \n",
    "                                       oob_score=True, \n",
    "                                       random_state=42, \n",
    "                                       n_jobs=-1)\n",
    "\n",
    "random_forest.fit(x_train, y_train)\n",
    "pred_rf = random_forest.predict(x_test)\n",
    "\n",
    "random_forest.score(x_train, y_train)"
   ]
  },
  {
   "cell_type": "code",
   "execution_count": 68,
   "metadata": {
    "execution": {
     "iopub.execute_input": "2021-05-25T10:35:39.675219Z",
     "iopub.status.busy": "2021-05-25T10:35:39.674905Z",
     "iopub.status.idle": "2021-05-25T10:35:39.925997Z",
     "shell.execute_reply": "2021-05-25T10:35:39.924888Z",
     "shell.execute_reply.started": "2021-05-25T10:35:39.675191Z"
    }
   },
   "outputs": [
    {
     "data": {
      "text/plain": [
       "<sklearn.metrics._plot.confusion_matrix.ConfusionMatrixDisplay at 0x7f00e2594e90>"
      ]
     },
     "execution_count": 68,
     "metadata": {},
     "output_type": "execute_result"
    },
    {
     "data": {
      "image/png": "[encoded data removed]",
      "text/plain": [
       "<Figure size 432x288 with 2 Axes>"
      ]
     },
     "metadata": {
      "needs_background": "light"
     },
     "output_type": "display_data"
    }
   ],
   "source": [
    "plot_confusion_matrix(random_forest,\n",
    "                     x_test,\n",
    "                     y_test,\n",
    "                     values_format='d'\n",
    "                     )"
   ]
  },
  {
   "cell_type": "code",
   "execution_count": 80,
   "metadata": {
    "execution": {
     "iopub.execute_input": "2021-05-25T10:40:03.328940Z",
     "iopub.status.busy": "2021-05-25T10:40:03.328612Z",
     "iopub.status.idle": "2021-05-25T10:40:03.336625Z",
     "shell.execute_reply": "2021-05-25T10:40:03.335767Z",
     "shell.execute_reply.started": "2021-05-25T10:40:03.328909Z"
    }
   },
   "outputs": [],
   "source": [
    "submission=pd.read_csv('../input/titanic/gender_submission.csv')"
   ]
  },
  {
   "cell_type": "code",
   "execution_count": 81,
   "metadata": {
    "execution": {
     "iopub.execute_input": "2021-05-25T10:40:05.182016Z",
     "iopub.status.busy": "2021-05-25T10:40:05.181678Z",
     "iopub.status.idle": "2021-05-25T10:40:05.290932Z",
     "shell.execute_reply": "2021-05-25T10:40:05.290053Z",
     "shell.execute_reply.started": "2021-05-25T10:40:05.181986Z"
    }
   },
   "outputs": [],
   "source": [
    "final_pred=random_forest.predict(test)"
   ]
  },
  {
   "cell_type": "code",
   "execution_count": 82,
   "metadata": {
    "execution": {
     "iopub.execute_input": "2021-05-25T10:40:07.434658Z",
     "iopub.status.busy": "2021-05-25T10:40:07.434300Z",
     "iopub.status.idle": "2021-05-25T10:40:07.439462Z",
     "shell.execute_reply": "2021-05-25T10:40:07.438491Z",
     "shell.execute_reply.started": "2021-05-25T10:40:07.434627Z"
    }
   },
   "outputs": [],
   "source": [
    "submission['Survived']=final_pred"
   ]
  },
  {
   "cell_type": "code",
   "execution_count": 83,
   "metadata": {
    "execution": {
     "iopub.execute_input": "2021-05-25T10:40:35.734785Z",
     "iopub.status.busy": "2021-05-25T10:40:35.734424Z",
     "iopub.status.idle": "2021-05-25T10:40:35.742659Z",
     "shell.execute_reply": "2021-05-25T10:40:35.741840Z",
     "shell.execute_reply.started": "2021-05-25T10:40:35.734754Z"
    }
   },
   "outputs": [],
   "source": [
    "pd.DataFrame(submission,columns=['PassengerId','Survived']).to_csv('titanic_new.csv',index=False)"
   ]
  },
  {
   "cell_type": "code",
   "execution_count": 84,
   "metadata": {
    "execution": {
     "iopub.execute_input": "2021-05-25T10:40:46.143812Z",
     "iopub.status.busy": "2021-05-25T10:40:46.143361Z",
     "iopub.status.idle": "2021-05-25T10:40:46.156878Z",
     "shell.execute_reply": "2021-05-25T10:40:46.156033Z",
     "shell.execute_reply.started": "2021-05-25T10:40:46.143780Z"
    }
   },
   "outputs": [
    {
     "data": {
      "text/html": [
       "<div>\n",
       "<style scoped>\n",
       "    .dataframe tbody tr th:only-of-type {\n",
       "        vertical-align: middle;\n",
       "    }\n",
       "\n",
       "    .dataframe tbody tr th {\n",
       "        vertical-align: top;\n",
       "    }\n",
       "\n",
       "    .dataframe thead th {\n",
       "        text-align: right;\n",
       "    }\n",
       "</style>\n",
       "<table border=\"1\" class=\"dataframe\">\n",
       "  <thead>\n",
       "    <tr style=\"text-align: right;\">\n",
       "      <th></th>\n",
       "      <th>PassengerId</th>\n",
       "      <th>Survived</th>\n",
       "    </tr>\n",
       "  </thead>\n",
       "  <tbody>\n",
       "    <tr>\n",
       "      <th>0</th>\n",
       "      <td>892</td>\n",
       "      <td>0</td>\n",
       "    </tr>\n",
       "    <tr>\n",
       "      <th>1</th>\n",
       "      <td>893</td>\n",
       "      <td>0</td>\n",
       "    </tr>\n",
       "    <tr>\n",
       "      <th>2</th>\n",
       "      <td>894</td>\n",
       "      <td>0</td>\n",
       "    </tr>\n",
       "    <tr>\n",
       "      <th>3</th>\n",
       "      <td>895</td>\n",
       "      <td>0</td>\n",
       "    </tr>\n",
       "    <tr>\n",
       "      <th>4</th>\n",
       "      <td>896</td>\n",
       "      <td>1</td>\n",
       "    </tr>\n",
       "    <tr>\n",
       "      <th>...</th>\n",
       "      <td>...</td>\n",
       "      <td>...</td>\n",
       "    </tr>\n",
       "    <tr>\n",
       "      <th>413</th>\n",
       "      <td>1305</td>\n",
       "      <td>0</td>\n",
       "    </tr>\n",
       "    <tr>\n",
       "      <th>414</th>\n",
       "      <td>1306</td>\n",
       "      <td>1</td>\n",
       "    </tr>\n",
       "    <tr>\n",
       "      <th>415</th>\n",
       "      <td>1307</td>\n",
       "      <td>0</td>\n",
       "    </tr>\n",
       "    <tr>\n",
       "      <th>416</th>\n",
       "      <td>1308</td>\n",
       "      <td>0</td>\n",
       "    </tr>\n",
       "    <tr>\n",
       "      <th>417</th>\n",
       "      <td>1309</td>\n",
       "      <td>1</td>\n",
       "    </tr>\n",
       "  </tbody>\n",
       "</table>\n",
       "<p>418 rows × 2 columns</p>\n",
       "</div>"
      ],
      "text/plain": [
       "     PassengerId  Survived\n",
       "0            892         0\n",
       "1            893         0\n",
       "2            894         0\n",
       "3            895         0\n",
       "4            896         1\n",
       "..           ...       ...\n",
       "413         1305         0\n",
       "414         1306         1\n",
       "415         1307         0\n",
       "416         1308         0\n",
       "417         1309         1\n",
       "\n",
       "[418 rows x 2 columns]"
      ]
     },
     "execution_count": 84,
     "metadata": {},
     "output_type": "execute_result"
    }
   ],
   "source": [
    "pd.read_csv('titanic_new.csv')"
   ]
  }
 ],
 "metadata": {
  "kernelspec": {
   "display_name": "Python 3",
   "language": "python",
   "name": "python3"
  },
  "language_info": {
   "codemirror_mode": {
    "name": "ipython",
    "version": 3
   },
   "file_extension": ".py",
   "mimetype": "text/x-python",
   "name": "python",
   "nbconvert_exporter": "python",
   "pygments_lexer": "ipython3",
   "version": "3.8.5"
  }
 },
 "nbformat": 4,
 "nbformat_minor": 4
}
